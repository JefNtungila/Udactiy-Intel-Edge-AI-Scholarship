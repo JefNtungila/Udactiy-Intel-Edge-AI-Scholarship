{
  "nbformat": 4,
  "nbformat_minor": 0,
  "metadata": {
    "colab": {
      "name": "2019-12-23_install_openvino.ipynb",
      "provenance": [],
      "collapsed_sections": [],
      "toc_visible": true,
      "include_colab_link": true
    },
    "kernelspec": {
      "name": "python3",
      "display_name": "Python 3"
    },
    "accelerator": "GPU"
  },
  "cells": [
    {
      "cell_type": "markdown",
      "metadata": {
        "id": "view-in-github",
        "colab_type": "text"
      },
      "source": [
        "<a href=\"https://colab.research.google.com/github/Nov05/Udactiy-Intel-Edge-AI-Scholarship/blob/master/notebooks/2019_12_23_install_openvino.ipynb\" target=\"_parent\"><img src=\"https://colab.research.google.com/assets/colab-badge.svg\" alt=\"Open In Colab\"/></a>"
      ]
    },
    {
      "cell_type": "code",
      "metadata": {
        "id": "OEvJoA3GHIZV",
        "colab_type": "code",
        "colab": {}
      },
      "source": [
        "# created by nov05 on 2019-12-23"
      ],
      "execution_count": 0,
      "outputs": []
    },
    {
      "cell_type": "markdown",
      "metadata": {
        "id": "olqois8NM1wv",
        "colab_type": "text"
      },
      "source": [
        "Install Intel® Distribution of OpenVINO™ toolkit for Linux*   \n",
        "https://docs.openvinotoolkit.org/latest/_docs_install_guides_installing_openvino_linux.html#install-openvino    \n",
        "Full package   \n",
        "http://registrationcenter-download.intel.com/akdlm/irc_nas/16057/l_openvino_toolkit_p_2019.3.376.tgz   \n",
        "Customization package   \n",
        "http://registrationcenter-download.intel.com/akdlm/irc_nas/16057/l_openvino_toolkit_p_2019.3.376_online.tgz   \n",
        "\n",
        "FastAI to OpenVINO     \n",
        "https://colab.research.google.com/drive/1TdjV6bSrgSAL6RcGsYzCaWMdaqaqCYID\n"
      ]
    },
    {
      "cell_type": "markdown",
      "metadata": {
        "id": "rIyZuZC4wThv",
        "colab_type": "text"
      },
      "source": [
        "# System Requirements   \n",
        "\n",
        "https://software.intel.com/en-us/openvino-toolkit/documentation/system-requirements\n",
        "\n",
        "**Processors**     \n",
        "6th to 10th generation Intel® Core™ and Intel® Xeon®    processors\n",
        "\n",
        "**Compatible Operating Systems**   \n",
        "Ubuntu* 18.04.3 LTS (64 bit)   \n",
        "Windows® 10 (64 bit)   \n",
        "CentOS* 7.4 (64 bit)   \n",
        "macOS* 10.13, 10.14 (64 bit)    "
      ]
    },
    {
      "cell_type": "code",
      "metadata": {
        "id": "V_pdouJTyC-G",
        "colab_type": "code",
        "outputId": "dc5f1a03-fc27-4358-c823-04b88f9be67a",
        "colab": {
          "base_uri": "https://localhost:8080/",
          "height": 35
        }
      },
      "source": [
        "## check CPU specification  \n",
        "## https://colab.research.google.com/drive/16eTwQc1RBaLrMYaeGl6dNhQxMWXj8lUJ\n",
        "!lscpu |grep 'Model name'"
      ],
      "execution_count": 0,
      "outputs": [
        {
          "output_type": "stream",
          "text": [
            "Model name:          Intel(R) Xeon(R) CPU @ 2.20GHz\n"
          ],
          "name": "stdout"
        }
      ]
    },
    {
      "cell_type": "code",
      "metadata": {
        "id": "fy75dCPt8L7A",
        "colab_type": "code",
        "outputId": "45a82032-a4cc-409f-b51c-dd7118b8f690",
        "colab": {
          "base_uri": "https://localhost:8080/",
          "height": 35
        }
      },
      "source": [
        "## check Ubuntu version - Ubuntu 18.04.3 LTS\n",
        "!lsb_release -d\n",
        "## https://software.intel.com/en-us/forums/intel-distribution-of-openvino-toolkit/topic/813684\n",
        "## Ubuntu 18 is technically not supported by OpenVino. \n",
        "## That said many people in the OpenVino community have gotten \n",
        "## it working on Ubuntu 18."
      ],
      "execution_count": 0,
      "outputs": [
        {
          "output_type": "stream",
          "text": [
            "Description:\tUbuntu 18.04.3 LTS\n"
          ],
          "name": "stdout"
        }
      ]
    },
    {
      "cell_type": "markdown",
      "metadata": {
        "id": "M7GMCGAg8AWD",
        "colab_type": "text"
      },
      "source": [
        "Some directories:  \n",
        "```\n",
        "<INSTALL_DIR> /opt/intel/\n",
        "<USER> workspace (/content/drive/My Drive/software/Intel OpenVINO 2019 R3.1/workspace)\n",
        "~ /root\n",
        "```\n",
        "Some acronyms:\n",
        "```\n",
        "IR = Intermediate Representation\n",
        "```"
      ]
    },
    {
      "cell_type": "markdown",
      "metadata": {
        "id": "rvmcPOdFb2Et",
        "colab_type": "text"
      },
      "source": [
        "# Installation   "
      ]
    },
    {
      "cell_type": "code",
      "metadata": {
        "id": "rlbW9vPGPEqp",
        "colab_type": "code",
        "colab": {}
      },
      "source": [
        "from google.colab import drive\n",
        "drive.mount('/content/drive')"
      ],
      "execution_count": 0,
      "outputs": []
    },
    {
      "cell_type": "code",
      "metadata": {
        "id": "m6iyDUxytiGH",
        "colab_type": "code",
        "colab": {
          "base_uri": "https://localhost:8080/",
          "height": 52
        },
        "outputId": "fc5814fe-efe8-4bb5-e63a-52626bd90a35"
      },
      "source": [
        "# %%time\n",
        "# %%capture\n",
        "# ## install tools\n",
        "# !sudo apt-get install -y pciutils cpio\n",
        "# !sudo apt autoremove\n",
        "# ## downnload installation files\n",
        "# # !wget http://registrationcenter-download.intel.com/akdlm/irc_nas/16057/l_openvino_toolkit_p_2019.3.376.tgz\n",
        "# # path = \"/content/l_openvino_toolkit_p_2019.3.376.tgz\"\n",
        "# path = \"/content/drive/My Drive/software/Intel OpenVINO 2019 R3.1/l_openvino_toolkit_p_2019.3.376.tgz\"\n",
        "# ## install openvino\n",
        "# !tar xf \"{path}\" && \\\n",
        "#     cd l_openvino_toolkit_p* && \\\n",
        "#     ./install_openvino_dependencies.sh && \\\n",
        "#     sed -i 's/decline/accept/g' silent.cfg && \\\n",
        "#     ./install.sh --silent silent.cfg\n",
        "# ## install prerequisites\n",
        "# !/opt/intel/openvino/deployment_tools/model_optimizer/install_prerequisites/install_prerequisites.sh"
      ],
      "execution_count": 2,
      "outputs": [
        {
          "output_type": "stream",
          "text": [
            "CPU times: user 661 ms, sys: 86.4 ms, total: 747 ms\n",
            "Wall time: 2min 18s\n"
          ],
          "name": "stdout"
        }
      ]
    },
    {
      "cell_type": "code",
      "metadata": {
        "id": "Vqx7Q-Vxu_es",
        "colab_type": "code",
        "colab": {
          "base_uri": "https://localhost:8080/",
          "height": 52
        },
        "outputId": "28a18e0f-c69a-4876-b6ae-b52178d6b6cb"
      },
      "source": [
        "# %%time\n",
        "# %%capture\n",
        "# ## run demo\n",
        "# !source /opt/intel/openvino/bin/setupvars.sh && \\\n",
        "#  /opt/intel/openvino/deployment_tools/demo/demo_squeezenet_download_convert_run.sh"
      ],
      "execution_count": 8,
      "outputs": [
        {
          "output_type": "stream",
          "text": [
            "CPU times: user 899 ms, sys: 91.7 ms, total: 991 ms\n",
            "Wall time: 3min 2s\n"
          ],
          "name": "stdout"
        }
      ]
    },
    {
      "cell_type": "code",
      "metadata": {
        "id": "LjhLu-GJVJCm",
        "colab_type": "code",
        "colab": {}
      },
      "source": [
        "!sudo apt-get install pciutils\n",
        "# Setting up pciutils (1:3.5.2-1ubuntu1.1) ...\n",
        "'''\n",
        "The following package was automatically installed and is no longer required:\n",
        "  libnvidia-common-430\n",
        "Use 'sudo apt autoremove' to remove it.\n",
        "Suggested packages:\n",
        "  libarchive1\n",
        "The following NEW packages will be installed:\n",
        "  cpio\n",
        "0 upgraded, 1 newly installed, 0 to remove and 19 not upgraded.\n",
        "'''\n",
        "!sudo apt-get update -y\n",
        "!sudo apt-get install -y cpio\n",
        "!sudo apt autoremove"
      ],
      "execution_count": 0,
      "outputs": []
    },
    {
      "cell_type": "markdown",
      "metadata": {
        "id": "YHM3-WUHhkP1",
        "colab_type": "text"
      },
      "source": [
        "# Check enviroment variables"
      ]
    },
    {
      "cell_type": "code",
      "metadata": {
        "id": "wPtGBsDDY7J0",
        "colab_type": "code",
        "outputId": "34668dda-dfb5-420d-e68b-c21211f0567f",
        "colab": {
          "base_uri": "https://localhost:8080/",
          "height": 213
        }
      },
      "source": [
        "import os\n",
        "import json\n",
        "\n",
        "## list all user environment variables\n",
        "# print(json.dumps(dict(os.environ), \n",
        "#                  indent=4, sort_keys=False))\n",
        "## list user path environment variables\n",
        "# !echo $PATH\n",
        "print(os.environ['PATH'])\n",
        "\n",
        "## list system variables PATH\n",
        "import sys\n",
        "sys.path"
      ],
      "execution_count": 0,
      "outputs": [
        {
          "output_type": "stream",
          "text": [
            "/usr/local/nvidia/bin:/usr/local/cuda/bin:/usr/local/sbin:/usr/local/bin:/usr/sbin:/usr/bin:/sbin:/bin:/tools/node/bin:/tools/google-cloud-sdk/bin:/opt/bin\n"
          ],
          "name": "stdout"
        },
        {
          "output_type": "execute_result",
          "data": {
            "text/plain": [
              "['',\n",
              " '/env/python',\n",
              " '/usr/lib/python36.zip',\n",
              " '/usr/lib/python3.6',\n",
              " '/usr/lib/python3.6/lib-dynload',\n",
              " '/usr/local/lib/python3.6/dist-packages',\n",
              " '/usr/lib/python3/dist-packages',\n",
              " '/usr/local/lib/python3.6/dist-packages/IPython/extensions',\n",
              " '/root/.ipython']"
            ]
          },
          "metadata": {
            "tags": []
          },
          "execution_count": 7
        }
      ]
    },
    {
      "cell_type": "markdown",
      "metadata": {
        "id": "PmsIt8pBmGpq",
        "colab_type": "text"
      },
      "source": [
        "# Install Intel OpenVINO \n",
        "\n",
        "https://software.intel.com/en-us/forums/intel-system-studio/topic/799526  \n"
      ]
    },
    {
      "cell_type": "markdown",
      "metadata": {
        "id": "71WX0LWPgW23",
        "colab_type": "text"
      },
      "source": [
        "```\n",
        "Install location:\n",
        "    /opt/intel\n",
        "Component(s) selected:\n",
        "    Inference Engine                                                       208MB\n",
        "        Inference Engine Development Kit                    \n",
        "        Inference Engine Runtime for Intel® CPU             \n",
        "        Inference Engine Runtime for Intel® Processor Graphics                  \n",
        "        Inference Engine Runtime for Intel® Movidius™ VPU   \n",
        "        Inference Engine Runtime for Intel® Gaussian Neural Accelerator         \n",
        "        Inference Engine Runtime for Intel® Vision Accelerator Design with      \n",
        "Intel® Movidius™ VPUs\n",
        "    Model Optimizer                                                          4MB\n",
        "        Model Optimizer Tool                                \n",
        "    Deep Learning Workbench                                                132MB\n",
        "        Deep Learning Workbench                             \n",
        "    OpenCV*                                                                117MB\n",
        "        OpenCV* Libraries\n",
        "```"
      ]
    },
    {
      "cell_type": "markdown",
      "metadata": {
        "id": "-2oIT0Jbla9v",
        "colab_type": "text"
      },
      "source": [
        "```\n",
        "Missing optional prerequisites\n",
        "-- Intel® GPU is not detected on this machine\n",
        "-- Intel® Graphics Compute Runtime for OpenCL™ Driver is missing but you will\n",
        "```"
      ]
    },
    {
      "cell_type": "code",
      "metadata": {
        "id": "rF0aEb5IPD4p",
        "colab_type": "code",
        "colab": {}
      },
      "source": [
        "## get Intel OpenVINO full package\n",
        "# !wget http://registrationcenter-download.intel.com/akdlm/irc_nas/16057/l_openvino_toolkit_p_2019.3.376.tgz\n",
        "!tar -zxvf /content/drive/My\\ Drive/software/Intel\\ OpenVINO\\ 2019\\ R3.1/l_openvino_toolkit_p_2019.3.376.tgz\n",
        "\n",
        "## bash: lspci: command not found\n",
        "## !sudo apt-get install pciutils\n",
        "'''\n",
        "The first part of Intel® Distribution of OpenVINO™ toolkit 2019 R3.1 for Linux*\n",
        "has been successfully installed in \n",
        "/opt/intel/openvino_2019.3.376.\n",
        "\n",
        "The setup program requires 'cpio' tool to complete installation. Please make\n",
        "sure this tool is installed and its location is present in 'PATH' environment\n",
        "variable.\n",
        "'''\n",
        "%cd /content/l_openvino_toolkit_p_2019.3.376\n",
        "## command line installation\n",
        "!sudo ./install.sh"
      ],
      "execution_count": 0,
      "outputs": []
    },
    {
      "cell_type": "markdown",
      "metadata": {
        "id": "BLCZtp4no0eC",
        "colab_type": "text"
      },
      "source": [
        "# Install External Software Dependencies"
      ]
    },
    {
      "cell_type": "code",
      "metadata": {
        "id": "1DTzdEUglhZR",
        "colab_type": "code",
        "colab": {}
      },
      "source": [
        "## Run a script to download and install the external software dependencies\n",
        "'''\n",
        "This script installs the following OpenVINO 3rd-party dependencies:\n",
        "  1. GTK+, FFmpeg and GStreamer libraries used by OpenCV\n",
        "  2. libusb library required for Myriad plugin for Inference Engine\n",
        "  3. build dependencies for OpenVINO samples\n",
        "'''\n",
        "%cd /opt/intel/openvino/install_dependencies\n",
        "!sudo -E ./install_openvino_dependencies.sh"
      ],
      "execution_count": 0,
      "outputs": []
    },
    {
      "cell_type": "markdown",
      "metadata": {
        "id": "soauiPV0n4Vt",
        "colab_type": "text"
      },
      "source": [
        "# Set the Environment Variables   "
      ]
    },
    {
      "cell_type": "code",
      "metadata": {
        "id": "N2KJIlaal02R",
        "colab_type": "code",
        "outputId": "daaac5d6-7b91-434c-c433-00c09efbf3c2",
        "colab": {
          "base_uri": "https://localhost:8080/",
          "height": 52
        }
      },
      "source": [
        "# %%shell\n",
        "# source /opt/intel/openvino/bin/setupvars.sh -pyver 3.6 python_version=3.6\n",
        "\n",
        "## Set the user Environment Variables\n",
        "## You should see the following message:\n",
        "## [setupvars.sh] OpenVINO environment initialized\n",
        "# !source /opt/intel/openvino/bin/setupvars.sh\n",
        "!source /opt/intel/openvino/bin/setupvars.sh -pyver 3.6 python_version=3.6\n",
        "\n",
        "## CAUTION: this won't work in Colab Notebook for the current session."
      ],
      "execution_count": 0,
      "outputs": [
        {
          "output_type": "stream",
          "text": [
            "python_version = 3.6\n",
            "[setupvars.sh] OpenVINO environment initialized\n"
          ],
          "name": "stdout"
        }
      ]
    },
    {
      "cell_type": "code",
      "metadata": {
        "id": "o6-Ik6RVZJxN",
        "colab_type": "code",
        "outputId": "b06e1866-0e7e-45c9-d960-af45a613fa63",
        "colab": {
          "base_uri": "https://localhost:8080/",
          "height": 1000
        }
      },
      "source": [
        "# !cat /opt/intel/openvino/bin/setupvars.sh\n",
        "!cat /opt/intel/openvino_2019.3.376/bin/setupvars.sh"
      ],
      "execution_count": 0,
      "outputs": [
        {
          "output_type": "stream",
          "text": [
            "#!/bin/bash\n",
            "\n",
            "# Copyright (c) 2018-2019 Intel Corporation\n",
            "#\n",
            "# Licensed under the Apache License, Version 2.0 (the \"License\");\n",
            "# you may not use this file except in compliance with the License.\n",
            "# You may obtain a copy of the License at\n",
            "#\n",
            "#      http://www.apache.org/licenses/LICENSE-2.0\n",
            "#\n",
            "# Unless required by applicable law or agreed to in writing, software\n",
            "# distributed under the License is distributed on an \"AS IS\" BASIS,\n",
            "# WITHOUT WARRANTIES OR CONDITIONS OF ANY KIND, either express or implied.\n",
            "# See the License for the specific language governing permissions and\n",
            "# limitations under the License.\n",
            "\n",
            "INSTALLDIR=\"${INTEL_OPENVINO_DIR:-/opt/intel/openvino_2019.3.376}\"\n",
            "if [[ ! -d \"${INSTALLDIR}\" ]]; then\n",
            "  # Script has not been processed by installer, so INSTALLDIR is not valid\n",
            "  # Using autodetection assuming:\n",
            "  # - current shell is \"bash\"\n",
            "  # - location of the current script is in \"INSTALLDIR/bin\"\n",
            "  SCRIPT_DIR=\"$( cd \"$( dirname \"${BASH_SOURCE[0]}\" )\" >/dev/null 2>&1 && pwd )\"\n",
            "  BASE_DIR=\"$( dirname \"$SCRIPT_DIR\" )\"\n",
            "\n",
            "  INSTALLDIR=\"${BASE_DIR}\"\n",
            "fi\n",
            "\n",
            "export INTEL_OPENVINO_DIR=\"$INSTALLDIR\"\n",
            "export INTEL_CVSDK_DIR=\"$INTEL_OPENVINO_DIR\"\n",
            "\n",
            "# parse command line options\n",
            "while [[ $# -gt 0 ]]\n",
            "do\n",
            "key=\"$1\"\n",
            "case $key in\n",
            "    -pyver)\n",
            "    python_version=$2\n",
            "    echo python_version = \"${python_version}\"\n",
            "    shift\n",
            "    ;;\n",
            "    *)\n",
            "    # unknown option\n",
            "    ;;\n",
            "esac\n",
            "shift\n",
            "done\n",
            "\n",
            "if [ -e $INSTALLDIR/openvx ]; then\n",
            "    export LD_LIBRARY_PATH=$INSTALLDIR/openvx/lib:$LD_LIBRARY_PATH\n",
            "fi\n",
            "\n",
            "if [ -e $INSTALLDIR/deployment_tools/inference_engine ]; then\n",
            "    export InferenceEngine_DIR=$INTEL_OPENVINO_DIR/deployment_tools/inference_engine/share\n",
            "    system_type=$(\\ls $INTEL_OPENVINO_DIR/deployment_tools/inference_engine/lib/)\n",
            "    IE_PLUGINS_PATH=$INTEL_OPENVINO_DIR/deployment_tools/inference_engine/lib/$system_type\n",
            "\n",
            "    if [[ -e ${IE_PLUGINS_PATH}/arch_descriptions ]]; then\n",
            "        export ARCH_ROOT_DIR=${IE_PLUGINS_PATH}/arch_descriptions\n",
            "    fi\n",
            "\n",
            "    export HDDL_INSTALL_DIR=$INSTALLDIR/deployment_tools/inference_engine/external/hddl\n",
            "    if [[ \"$OSTYPE\" == \"darwin\"* ]]; then\n",
            "        export DYLD_LIBRARY_PATH=$INSTALLDIR/deployment_tools/inference_engine/external/mkltiny_mac/lib:$INSTALLDIR/deployment_tools/inference_engine/external/tbb/lib:$IE_PLUGINS_PATH:$DYLD_LIBRARY_PATH\n",
            "        export LD_LIBRARY_PATH=$INSTALLDIR/deployment_tools/inference_engine/external/mkltiny_mac/lib:$INSTALLDIR/deployment_tools/inference_engine/external/tbb/lib:$IE_PLUGINS_PATH:$LD_LIBRARY_PATH\n",
            "    else\n",
            "        export LD_LIBRARY_PATH=/opt/intel/opencl:$HDDL_INSTALL_DIR/lib:$INSTALLDIR/deployment_tools/inference_engine/external/gna/lib:$INSTALLDIR/deployment_tools/inference_engine/external/mkltiny_lnx/lib:$INSTALLDIR/deployment_tools/inference_engine/external/tbb/lib:$IE_PLUGINS_PATH:$LD_LIBRARY_PATH\n",
            "    fi\n",
            "fi\n",
            "\n",
            "if [ -e $INSTALLDIR/deployment_tools/ngraph ]; then\n",
            "    export LD_LIBRARY_PATH=$INSTALLDIR/deployment_tools/ngraph/lib:$LD_LIBRARY_PATH\n",
            "fi\n",
            "    \n",
            "if [ -e \"$INSTALLDIR/opencv\" ]; then\n",
            "    if [ -f \"$INSTALLDIR/opencv/setupvars.sh\" ]; then\n",
            "        source \"$INSTALLDIR/opencv/setupvars.sh\"\n",
            "    else\n",
            "        export OpenCV_DIR=\"$INSTALLDIR/opencv/share/OpenCV\"\n",
            "        export LD_LIBRARY_PATH=\"$INSTALLDIR/opencv/lib:$LD_LIBRARY_PATH\"\n",
            "        export LD_LIBRARY_PATH=\"$INSTALLDIR/opencv/share/OpenCV/3rdparty/lib:$LD_LIBRARY_PATH\"\n",
            "    fi\n",
            "fi\n",
            "\n",
            "export PATH=\"$INTEL_OPENVINO_DIR/deployment_tools/model_optimizer:$PATH\"\n",
            "export PYTHONPATH=\"$INTEL_OPENVINO_DIR/deployment_tools/model_optimizer:$PYTHONPATH\"\n",
            "\n",
            "if [ -e $INTEL_OPENVINO_DIR/deployment_tools/open_model_zoo/tools/accuracy_checker ]; then\n",
            "    export PYTHONPATH=\"$INTEL_OPENVINO_DIR/deployment_tools/open_model_zoo/tools/accuracy_checker:$PYTHONPATH\"\n",
            "fi\n",
            "\n",
            "if [ -z \"$python_version\" ]; then\n",
            "    if command -v python3.7 >/dev/null 2>&1; then\n",
            "        python_version=3.7\n",
            "        python_bitness=$(python3.7 -c 'import sys; print(64 if sys.maxsize > 2**32 else 32)')\n",
            "    elif command -v python3.6 >/dev/null 2>&1; then\n",
            "        python_version=3.6\n",
            "        python_bitness=$(python3.6 -c 'import sys; print(64 if sys.maxsize > 2**32 else 32)')\n",
            "    elif command -v python3.5 >/dev/null 2>&1; then\n",
            "        python_version=3.5\n",
            "        python_bitness=$(python3.5 -c 'import sys; print(64 if sys.maxsize > 2**32 else 32)')\n",
            "    elif command -v python3.4 >/dev/null 2>&1; then\n",
            "        python_version=3.4\n",
            "        python_bitness=$(python3.4 -c 'import sys; print(64 if sys.maxsize > 2**32 else 32)')\n",
            "    elif command -v python2.7 >/dev/null 2>&1; then\n",
            "        python_version=2.7\n",
            "    elif command -v python >/dev/null 2>&1; then\n",
            "        python_version=$(python -c 'import sys; print(\".\".join(map(str, sys.version_info[:2])))')\n",
            "    fi\n",
            "fi\n",
            "\n",
            "OS_NAME=\"\"\n",
            "if command -v lsb_release >/dev/null 2>&1; then\n",
            "    OS_NAME=$(lsb_release -i -s)\n",
            "fi\n",
            "\n",
            "if [ \"$python_bitness\" != \"\" ] && [ \"$python_bitness\" != \"64\" ] && [ \"$OS_NAME\" != \"Raspbian\" ]; then\n",
            "    echo \"[setupvars.sh] 64 bitness for Python\" $python_version \"is requred\"\n",
            "fi\n",
            "\n",
            "if [ ! -z \"$python_version\" ]; then\n",
            "    if [ \"$python_version\" != \"2.7\" ]; then\n",
            "        # add path to OpenCV API for Python 3.x\n",
            "        export PYTHONPATH=\"$INTEL_OPENVINO_DIR/python/python3:$PYTHONPATH\"\n",
            "    fi\n",
            "    # add path to Inference Engine Python API\n",
            "    export PYTHONPATH=\"$INTEL_OPENVINO_DIR/python/python$python_version:$PYTHONPATH\"\n",
            "fi\n",
            "\n",
            "echo \"[setupvars.sh] OpenVINO environment initialized\"\n"
          ],
          "name": "stdout"
        }
      ]
    },
    {
      "cell_type": "code",
      "metadata": {
        "id": "KKxcrNkrZN26",
        "colab_type": "code",
        "outputId": "ab973193-982f-4b90-cd97-c69681f767ff",
        "colab": {
          "base_uri": "https://localhost:8080/",
          "height": 52
        }
      },
      "source": [
        "!cat /opt/intel/openvino_2019.3.376/opencv/setupvars.sh"
      ],
      "execution_count": 0,
      "outputs": [
        {
          "output_type": "stream",
          "text": [
            "export OpenCV_DIR=$INSTALLDIR/opencv/cmake\n",
            "export LD_LIBRARY_PATH=$INSTALLDIR/opencv/lib:$LD_LIBRARY_PATH\n"
          ],
          "name": "stdout"
        }
      ]
    },
    {
      "cell_type": "markdown",
      "metadata": {
        "id": "kmFPlUR_pkGo",
        "colab_type": "text"
      },
      "source": [
        "### Set through Python"
      ]
    },
    {
      "cell_type": "code",
      "metadata": {
        "id": "gL6gdP-eZTej",
        "colab_type": "code",
        "colab": {}
      },
      "source": [
        "## CAUTION: export can't set system environment variables.\n",
        "## The reason is that !export will assign the environment \n",
        "## variable in an ephemeral sub-shell. But, you want to update \n",
        "## the environment for the Python subprocess that spawns those sub-shells.\n",
        "## !export INTEL_OPENVINO_DIR=\"/opt/intel/openvino_2019.3.376\"\n",
        "import os\n",
        "os.environ['INTEL_OPENVINO_DIR'] = \"/opt/intel/openvino_2019.3.376\"\n",
        "os.environ['INTEL_CVSDK_DIR'] = \"/opt/intel/openvino_2019.3.376\"\n",
        "os.environ['PATH'] = \\\n",
        "    os.environ['INTEL_OPENVINO_DIR'] + \"/deployment_tools/model_optimizer:\" + \\\n",
        "    os.environ['INTEL_OPENVINO_DIR'] + \"/python/python3.7/openvino:\" + \\\n",
        "    os.environ['PATH']\n",
        "os.environ['PYTHONPATH'] = \\\n",
        "    os.environ['INTEL_OPENVINO_DIR'] + \"/python/python3:\" + \\\n",
        "    os.environ['INTEL_OPENVINO_DIR'] + \"/python/python3.6:\" + \\\n",
        "    os.environ['INTEL_OPENVINO_DIR'] + \"/python/python3.6/openvino:\" + \\\n",
        "    os.environ['INTEL_OPENVINO_DIR'] + \"/deployment_tools/inference_engine/share:\" + \\\n",
        "    os.environ['INTEL_OPENVINO_DIR'] + \"/deployment_tools/model_optimizer:\" + \\\n",
        "    os.environ['INTEL_OPENVINO_DIR'] + \"/deployment_tools/open_model_zoo/tools/accuracy_checker\" + \\\n",
        "    os.environ['PYTHONPATH']\n",
        "os.environ['InferenceEngine_DIR'] = \\\n",
        "    os.environ['INTEL_OPENVINO_DIR'] + \"/deployment_tools/inference_engine/share\"\n",
        "os.environ['OpenCV_DIR'] = \\\n",
        "    os.environ['INTEL_OPENVINO_DIR'] + \"/opencv/cmake\"\n",
        "os.environ['HDDL_INSTALL_DIR'] = \\\n",
        "    os.environ['INTEL_OPENVINO_DIR'] + \"/deployment_tools/inference_engine/external/hddl\"    \n",
        "os.environ['LD_LIBRARY_PATH'] = \\\n",
        "    os.environ['INTEL_OPENVINO_DIR'] + \"/openvx/lib:\" + \\\n",
        "    os.environ['INTEL_OPENVINO_DIR'] + \"/opencv/lib:\" + \\\n",
        "    os.environ['INTEL_OPENVINO_DIR'] + \"/opencv/share/OpenCV/3rdparty/lib:\" + \\\n",
        "    \"/opt/intel/opencl:\" + \\\n",
        "    os.environ['HDDL_INSTALL_DIR'] + \"/lib:\" + \\\n",
        "    os.environ['INTEL_OPENVINO_DIR'] + \"/deployment_tools/inference_engine/external/gna/lib:\" + \\\n",
        "    os.environ['INTEL_OPENVINO_DIR'] + \"/deployment_tools/inference_engine/external/mkltiny_lnx/lib:\" + \\\n",
        "    os.environ['INTEL_OPENVINO_DIR'] + \"/deployment_tools/inference_engine/external/tbb/lib:\" + \\\n",
        "    os.environ['INTEL_OPENVINO_DIR'] + \"/deployment_tools/inference_engine/lib/intel64:\" + \\\n",
        "    os.environ['LD_LIBRARY_PATH']"
      ],
      "execution_count": 0,
      "outputs": []
    },
    {
      "cell_type": "code",
      "metadata": {
        "id": "qMt5WoboZhd3",
        "colab_type": "code",
        "outputId": "51363d41-4b75-416c-95e1-c74810e35408",
        "colab": {
          "base_uri": "https://localhost:8080/",
          "height": 90
        }
      },
      "source": [
        "!echo $PATH\n",
        "# !echo $PYTHONPATH\n",
        "!echo $INTEL_OPENVINO_DIR\n",
        "!echo $LD_LIBRARY_PATH\n",
        "# !echo $InferenceEngine_DIR\n",
        "# !echo $OpenCV_DIR\n",
        "# !echo $HDDL_INSTALL_DIR"
      ],
      "execution_count": 0,
      "outputs": [
        {
          "output_type": "stream",
          "text": [
            "/opt/intel/openvino_2019.3.376/deployment_tools/model_optimizer:/opt/intel/openvino_2019.3.376/python/python3.7/openvino:/opt/intel/openvino_2019.3.376/deployment_tools/model_optimizer:/opt/intel/openvino_2019.3.376/python/python3.7/openvino:/usr/local/nvidia/bin:/usr/local/cuda/bin:/usr/local/sbin:/usr/local/bin:/usr/sbin:/usr/bin:/sbin:/bin:/tools/node/bin:/tools/google-cloud-sdk/bin:/opt/bin\n",
            "/opt/intel/openvino_2019.3.376\n",
            "/opt/intel/openvino_2019.3.376/openvx/lib:/opt/intel/openvino_2019.3.376/opencv/lib:/opt/intel/openvino_2019.3.376/opencv/share/OpenCV/3rdparty/lib:/opt/intel/opencl:/opt/intel/openvino_2019.3.376/deployment_tools/inference_engine/external/hddl/lib:/opt/intel/openvino_2019.3.376/deployment_tools/inference_engine/external/gna/lib:/opt/intel/openvino_2019.3.376/deployment_tools/inference_engine/external/mkltiny_lnx/lib:/opt/intel/openvino_2019.3.376/deployment_tools/inference_engine/external/tbb/lib:/opt/intel/openvino_2019.3.376/deployment_tools/inference_engine/lib/intel64:/opt/intel/openvino_2019.3.376/opencv/lib:/opt/intel/openvino_2019.3.376/opencv/share/OpenCV/3rdparty/lib:/opt/intel/openvino_2019.3.376/openvx/lib:/opt/intel/opencl:/opt/intel/openvino_2019.3.376/deployment_tools/inference_engine/external/hddl/lib:/opt/intel/openvino_2019.3.376/deployment_tools/inference_engine/external/gna/lib:/opt/intel/openvino_2019.3.376/deployment_tools/inference_engine/external/mkltiny_lnx/lib:/opt/intel/openvino_2019.3.376/deployment_tools/inference_engine/external/tbb/lib:/opt/intel/openvino_2019.3.376/deployment_tools/inference_engine/lib/intel64:/usr/lib64-nvidia\n"
          ],
          "name": "stdout"
        }
      ]
    },
    {
      "cell_type": "code",
      "metadata": {
        "id": "oL-nqha2ZqCn",
        "colab_type": "code",
        "outputId": "0744dfd7-a961-4974-cab4-142b0bd458a3",
        "colab": {
          "base_uri": "https://localhost:8080/",
          "height": 193
        }
      },
      "source": [
        "import sys\n",
        "## so you can import openvino in current session\n",
        "path = '/opt/intel/openvino_2019.3.376/python/python3.6'\n",
        "if not path in sys.path:\n",
        "    sys.path.insert(1, path)\n",
        "sys.path"
      ],
      "execution_count": 0,
      "outputs": [
        {
          "output_type": "execute_result",
          "data": {
            "text/plain": [
              "['',\n",
              " '/opt/intel/openvino_2019.3.376/python/python3.6',\n",
              " '/env/python',\n",
              " '/usr/lib/python36.zip',\n",
              " '/usr/lib/python3.6',\n",
              " '/usr/lib/python3.6/lib-dynload',\n",
              " '/usr/local/lib/python3.6/dist-packages',\n",
              " '/usr/lib/python3/dist-packages',\n",
              " '/usr/local/lib/python3.6/dist-packages/IPython/extensions',\n",
              " '/root/.ipython']"
            ]
          },
          "metadata": {
            "tags": []
          },
          "execution_count": 2
        }
      ]
    },
    {
      "cell_type": "code",
      "metadata": {
        "id": "ldPfcovaZ1GX",
        "colab_type": "code",
        "outputId": "2d12bab8-14e5-4dc3-e10c-f44b719a4153",
        "colab": {
          "base_uri": "https://localhost:8080/",
          "height": 52
        }
      },
      "source": [
        "'''\n",
        "ImportError: libpython3.7m.so.1.0: cannot open shared object file: No such file or directory\n",
        "'''\n",
        "# !sudo apt install mlocate\n",
        "# !sudo updatedb\n",
        "!locate libpython3.7m.so.1.0\n",
        "## Google Colab doesn't have Python 3.7 installed by default.\n",
        "!/usr/bin/locate libpython3.6m.so.1.0\n",
        "## /usr/lib/x86_64-linux-gnu/libpython3.6m.so.1.0\n",
        "!locate libinference_engine.so\n",
        "## /opt/intel/openvino_2019.3.376/deployment_tools/inference_engine/lib/intel64/libinference_engine.so"
      ],
      "execution_count": 0,
      "outputs": [
        {
          "output_type": "stream",
          "text": [
            "/usr/lib/x86_64-linux-gnu/libpython3.6m.so.1.0\n",
            "/opt/intel/openvino_2019.3.376/deployment_tools/inference_engine/lib/intel64/libinference_engine.so\n"
          ],
          "name": "stdout"
        }
      ]
    },
    {
      "cell_type": "markdown",
      "metadata": {
        "id": "mo0s37JJpqGL",
        "colab_type": "text"
      },
      "source": [
        "### Check with imports"
      ]
    },
    {
      "cell_type": "code",
      "metadata": {
        "id": "iPaDOi1Ie9N3",
        "colab_type": "code",
        "outputId": "87fb6d5d-8548-420b-8a21-1e8e662c3d55",
        "colab": {
          "base_uri": "https://localhost:8080/",
          "height": 140
        }
      },
      "source": [
        "## test environment variables\n",
        "'''\n",
        "import openvino\n",
        "from openvino.inference_engine import IENetwork, IECore\n",
        "exit()\n",
        "'''\n",
        "!source /opt/intel/openvino/bin/setupvars.sh && python"
      ],
      "execution_count": 28,
      "outputs": [
        {
          "output_type": "stream",
          "text": [
            "[setupvars.sh] OpenVINO environment initialized\n",
            "Python 3.6.9 (default, Nov  7 2019, 10:44:02) \n",
            "[GCC 8.3.0] on linux\n",
            "Type \"help\", \"copyright\", \"credits\" or \"license\" for more information.\n",
            ">>> import openvino\n",
            ">>> from openvino.inference_engine import IENetwork, IECore\n",
            ">>> exit()\n"
          ],
          "name": "stdout"
        }
      ]
    },
    {
      "cell_type": "markdown",
      "metadata": {
        "id": "gP9HDJ7Oo_BG",
        "colab_type": "text"
      },
      "source": [
        "# Configure the Model Optimizer   "
      ]
    },
    {
      "cell_type": "code",
      "metadata": {
        "id": "tutL5oRyl5Je",
        "colab_type": "code",
        "colab": {}
      },
      "source": [
        "## Run the script to configure the Model Optimizer for Caffe, TensorFlow, MXNet, Kaldi*, and ONNX\n",
        "## Configure all supported frameworks at the same time\n",
        "'''\n",
        "ERROR: tensorflow-metadata 0.15.1 has requirement protobuf<4,>=3.7, but you'll have protobuf 3.6.1 which is incompatible.\n",
        "ERROR: albumentations 0.1.12 has requirement imgaug<0.2.7,>=0.2.5, but you'll have imgaug 0.2.9 which is incompatible.\n",
        "ERROR: mxnet 1.3.1 has requirement numpy<1.15.0,>=1.8.2, but you'll have numpy 1.17.4 which is incompatible.\n",
        "\n",
        "[WARNING] All Model Optimizer dependencies are installed globally.\n",
        "[WARNING] If you want to keep Model Optimizer in separate sandbox\n",
        "[WARNING] run install_prerequisites.sh venv {caffe|tf|mxnet|kaldi|onnx}\n",
        "'''\n",
        "%cd /opt/intel/openvino/deployment_tools/model_optimizer/install_prerequisites\n",
        "!sudo ./install_prerequisites.sh"
      ],
      "execution_count": 0,
      "outputs": []
    },
    {
      "cell_type": "code",
      "metadata": {
        "id": "ROF2n6SuX6vp",
        "colab_type": "code",
        "outputId": "0233e837-38b9-41f4-f219-09587b07aceb",
        "colab": {
          "base_uri": "https://localhost:8080/",
          "height": 1000
        }
      },
      "source": [
        "!cat /opt/intel/openvino/deployment_tools/model_optimizer/install_prerequisites/install_prerequisites.sh"
      ],
      "execution_count": 0,
      "outputs": [
        {
          "output_type": "stream",
          "text": [
            "#!/bin/bash\n",
            "\n",
            "# Copyright (c) 2019 Intel Corporation\n",
            "#\n",
            "# Licensed under the Apache License, Version 2.0 (the \"License\");\n",
            "# you may not use this file except in compliance with the License.\n",
            "# You may obtain a copy of the License at\n",
            "#\n",
            "#      http://www.apache.org/licenses/LICENSE-2.0\n",
            "#\n",
            "# Unless required by applicable law or agreed to in writing, software\n",
            "# distributed under the License is distributed on an \"AS IS\" BASIS,\n",
            "# WITHOUT WARRANTIES OR CONDITIONS OF ANY KIND, either express or implied.\n",
            "# See the License for the specific language governing permissions and\n",
            "# limitations under the License.\n",
            "\n",
            "error() {\n",
            "    local code=\"${3:-1}\"\n",
            "    if [[ -n \"$2\" ]];then\n",
            "        echo \"Error on or near line $1: $2; exiting with status ${code}\"\n",
            "    else\n",
            "        echo \"Error on or near line $1; exiting with status ${code}\"\n",
            "    fi\n",
            "    exit \"${code}\"\n",
            "} \n",
            "trap 'error ${LINENO}' ERR\n",
            "\n",
            "\n",
            "V_ENV=0\n",
            "\n",
            "for ((i=1;i <= $#;i++)) {\n",
            "    case \"${!i}\" in\n",
            "        caffe|tf|mxnet|kaldi|onnx)\n",
            "            postfix=\"_\"$1\"\"\n",
            "            ;;\n",
            "        \"venv\")\n",
            "            V_ENV=1\n",
            "            ;;\n",
            "        *)\n",
            "            if [[ \"$1\" != \"\" ]]; then\n",
            "                echo \"\\\"\"${!i}\"\\\" is unsupported parameter\"\n",
            "                echo $\"Usage: $0 {caffe|tf|mxnet|kaldi|onnx} {venv}\"\n",
            "                exit 1\n",
            "            fi\n",
            "            ;;\n",
            "        esac\n",
            "}\n",
            "\n",
            "SCRIPTDIR=\"$( cd \"$( dirname \"${BASH_SOURCE[0]}\" )\" && pwd )\"\n",
            "\n",
            "if [[ -f /etc/centos-release ]]; then\n",
            "    DISTRO=\"centos\"\n",
            "elif [[ -f /etc/lsb-release ]]; then\n",
            "    DISTRO=\"ubuntu\"\n",
            "fi\n",
            "\n",
            "if [[ $DISTRO == \"centos\" ]]; then\n",
            "    if command -v python3.5 >/dev/null 2>&1; then\n",
            "        python_binary=python3.5\n",
            "    fi\n",
            "    if command -v python3.6 >/dev/null 2>&1; then\n",
            "        python_binary=python3.6\n",
            "    fi\n",
            "    if [ -z \"$python_binary\" ]; then\n",
            "        sudo -E yum install -y https://centos7.iuscommunity.org/ius-release.rpm\n",
            "        #sudo -E yum install -y python36u easy_install python36u-pip\n",
            "        sudo -E yum install -y python36u python36u-pip\n",
            "        sudo -E pip3.6 install virtualenv\n",
            "        python_binary=python3.6\n",
            "    fi\n",
            "elif [[ $DISTRO == \"ubuntu\" ]]; then\n",
            "    sudo -E apt update\n",
            "    sudo -E apt -y install python3-pip python3-venv libgfortran3\n",
            "    python_binary=python3\n",
            "fi\n",
            "\n",
            "\n",
            "if [[ $V_ENV -eq 1 ]]; then\n",
            "    $python_binary -m venv $SCRIPTDIR/../venv\n",
            "    source $SCRIPTDIR/../venv/bin/activate\n",
            "    $SCRIPTDIR/../venv/bin/$python_binary -m pip install -r $SCRIPTDIR/../requirements${postfix}.txt\n",
            "    echo\n",
            "    echo \"Before running the Model Optimizer, please activate virtualenv environment by running \\\"source ${SCRIPTDIR}/../venv/bin/activate\\\"\"\n",
            "else\n",
            "    if [[ \"$OSTYPE\" == \"darwin\"* ]]; then\n",
            "        python3 -m pip install -r $SCRIPTDIR/../requirements${postfix}.txt\n",
            "    else\n",
            "        sudo -E $python_binary -m pip install -r $SCRIPTDIR/../requirements${postfix}.txt\n",
            "    fi\n",
            "    echo [WARNING] All Model Optimizer dependencies are installed globally.\n",
            "    echo [WARNING] If you want to keep Model Optimizer in separate sandbox\n",
            "    echo [WARNING] run install_prerequisites.sh venv \"{caffe|tf|mxnet|kaldi|onnx}\"\n",
            "fi\n"
          ],
          "name": "stdout"
        }
      ]
    },
    {
      "cell_type": "markdown",
      "metadata": {
        "id": "yO7vooJtpQpo",
        "colab_type": "text"
      },
      "source": [
        "# Run the Verification Scripts to Verify Installation   "
      ]
    },
    {
      "cell_type": "code",
      "metadata": {
        "id": "Ir9l-Ht9nNif",
        "colab_type": "code",
        "outputId": "57c94096-c49d-4e5e-e083-c241c5852c16",
        "colab": {
          "base_uri": "https://localhost:8080/",
          "height": 1000
        }
      },
      "source": [
        "'''\n",
        "Top 10 results:\n",
        "Image /opt/intel/openvino_2019.3.376/deployment_tools/demo/car.png\n",
        "classid probability label\n",
        "------- ----------- -----\n",
        "817     0.6853030   sports car, sport car\n",
        "479     0.1835197   car wheel\n",
        "511     0.0917197   convertible\n",
        "436     0.0200694   beach wagon, station wagon, wagon, estate car, beach waggon, station waggon, waggon\n",
        "751     0.0069604   racer, race car, racing car\n",
        "656     0.0044177   minivan\n",
        "717     0.0024739   pickup, pickup truck\n",
        "581     0.0017788   grille, radiator grille\n",
        "468     0.0013083   cab, hack, taxi, taxicab\n",
        "661     0.0007443   Model T\n",
        "[ INFO ] Execution successful\n",
        "[ INFO ] This sample is an API example, for any performance measurements please use the dedicated benchmark_app tool\n",
        "###################################################\n",
        "Demo completed successfully.\n",
        "'''\n",
        "## Go to the Inference Engine demo directory\n",
        "%cd /opt/intel/openvino/deployment_tools/demo\n",
        "## Run the Image Classification verification script\n",
        "!./demo_squeezenet_download_convert_run.sh\n",
        "## Run the Inference Pipeline verification script\n",
        "# !./demo_security_barrier_camera.sh"
      ],
      "execution_count": 0,
      "outputs": [
        {
          "output_type": "stream",
          "text": [
            "/opt/intel/openvino_2019.3.376/deployment_tools/demo\n",
            "target_precision = FP16\n",
            "[setupvars.sh] OpenVINO environment initialized\n",
            "\n",
            "\n",
            "###################################################\n",
            "\n",
            "\n",
            "\n",
            "Downloading the Caffe model and the prototxt\n",
            "Installing dependencies\n",
            "Hit:1 http://security.ubuntu.com/ubuntu bionic-security InRelease\n",
            "Hit:2 http://archive.ubuntu.com/ubuntu bionic InRelease\n",
            "Hit:3 http://ppa.launchpad.net/graphics-drivers/ppa/ubuntu bionic InRelease\n",
            "Hit:4 http://archive.ubuntu.com/ubuntu bionic-updates InRelease\n",
            "Hit:5 http://ppa.launchpad.net/marutter/c2d4u3.5/ubuntu bionic InRelease\n",
            "Hit:6 http://archive.ubuntu.com/ubuntu bionic-backports InRelease\n",
            "Hit:7 https://cloud.r-project.org/bin/linux/ubuntu bionic-cran35/ InRelease\n",
            "Ign:8 https://developer.download.nvidia.com/compute/cuda/repos/ubuntu1804/x86_64  InRelease\n",
            "Ign:9 https://developer.download.nvidia.com/compute/machine-learning/repos/ubuntu1804/x86_64  InRelease\n",
            "Hit:10 https://developer.download.nvidia.com/compute/cuda/repos/ubuntu1804/x86_64  Release\n",
            "Hit:11 https://developer.download.nvidia.com/compute/machine-learning/repos/ubuntu1804/x86_64  Release\n",
            "Reading package lists... Done\n",
            "Building dependency tree       \n",
            "Reading state information... Done\n",
            "19 packages can be upgraded. Run 'apt list --upgradable' to see them.\n",
            "Run sudo -E apt -y install build-essential python3-pip virtualenv cmake libcairo2-dev libpango1.0-dev libglib2.0-dev libgtk2.0-dev libswscale-dev libavcodec-dev libavformat-dev libgstreamer1.0-0 gstreamer1.0-plugins-base\n",
            "\n",
            "Reading package lists... Done\n",
            "Building dependency tree       \n",
            "Reading state information... Done\n",
            "build-essential is already the newest version (12.4ubuntu1).\n",
            "cmake is already the newest version (3.10.2-1ubuntu2.18.04.1).\n",
            "gstreamer1.0-plugins-base is already the newest version (1.14.5-0ubuntu1~18.04.1).\n",
            "libglib2.0-dev is already the newest version (2.56.4-0ubuntu0.18.04.4).\n",
            "libglib2.0-dev set to manually installed.\n",
            "libgstreamer1.0-0 is already the newest version (1.14.5-0ubuntu1~18.04.1).\n",
            "libavcodec-dev is already the newest version (7:3.4.6-0ubuntu0.18.04.1).\n",
            "libavcodec-dev set to manually installed.\n",
            "libavformat-dev is already the newest version (7:3.4.6-0ubuntu0.18.04.1).\n",
            "libavformat-dev set to manually installed.\n",
            "libswscale-dev is already the newest version (7:3.4.6-0ubuntu0.18.04.1).\n",
            "libswscale-dev set to manually installed.\n",
            "python3-pip is already the newest version (9.0.1-2.3~ubuntu1.18.04.1).\n",
            "The following additional packages will be installed:\n",
            "  autoconf automake autopoint autotools-dev debhelper dh-autoreconf\n",
            "  dh-strip-nondeterminism file gettext gettext-base gir1.2-atk-1.0\n",
            "  gir1.2-freedesktop gir1.2-gdkpixbuf-2.0 gir1.2-gtk-2.0 gir1.2-pango-1.0\n",
            "  intltool-debian libarchive-cpio-perl libarchive-zip-perl libatk1.0-dev\n",
            "  libcairo-script-interpreter2 libfile-stripnondeterminism-perl\n",
            "  libgdk-pixbuf2.0-dev libmagic-mgc libmagic1 libmail-sendmail-perl\n",
            "  libpangoxft-1.0-0 libpixman-1-dev libsigsegv2 libsys-hostname-long-perl\n",
            "  libtimedate-perl libtool libxcb-shm0-dev libxcomposite-dev libxcursor-dev\n",
            "  libxinerama-dev libxml2-utils libxrandr-dev m4 po-debconf python3-virtualenv\n",
            "  x11proto-composite-dev x11proto-randr-dev x11proto-xinerama-dev\n",
            "Suggested packages:\n",
            "  autoconf-archive gnu-standards autoconf-doc dh-make dwz gettext-doc\n",
            "  libasprintf-dev libgettextpo-dev libcairo2-doc libgtk2.0-doc imagemagick\n",
            "  libpango1.0-doc libtool-doc gcj-jdk m4-doc libmail-box-perl\n",
            "The following NEW packages will be installed:\n",
            "  autoconf automake autopoint autotools-dev debhelper dh-autoreconf\n",
            "  dh-strip-nondeterminism file gettext gettext-base gir1.2-atk-1.0\n",
            "  gir1.2-freedesktop gir1.2-gdkpixbuf-2.0 gir1.2-gtk-2.0 gir1.2-pango-1.0\n",
            "  intltool-debian libarchive-cpio-perl libarchive-zip-perl libatk1.0-dev\n",
            "  libcairo-script-interpreter2 libcairo2-dev libfile-stripnondeterminism-perl\n",
            "  libgdk-pixbuf2.0-dev libgtk2.0-dev libmagic-mgc libmagic1\n",
            "  libmail-sendmail-perl libpango1.0-dev libpangoxft-1.0-0 libpixman-1-dev\n",
            "  libsigsegv2 libsys-hostname-long-perl libtimedate-perl libtool\n",
            "  libxcb-shm0-dev libxcomposite-dev libxcursor-dev libxinerama-dev\n",
            "  libxml2-utils libxrandr-dev m4 po-debconf python3-virtualenv virtualenv\n",
            "  x11proto-composite-dev x11proto-randr-dev x11proto-xinerama-dev\n",
            "0 upgraded, 47 newly installed, 0 to remove and 19 not upgraded.\n",
            "Need to get 9,143 kB of archives.\n",
            "After this operation, 50.4 MB of additional disk space will be used.\n",
            "Get:1 http://archive.ubuntu.com/ubuntu bionic-updates/main amd64 libmagic-mgc amd64 1:5.32-2ubuntu0.3 [184 kB]\n",
            "Get:2 http://archive.ubuntu.com/ubuntu bionic-updates/main amd64 libmagic1 amd64 1:5.32-2ubuntu0.3 [68.7 kB]\n",
            "Get:3 http://archive.ubuntu.com/ubuntu bionic-updates/main amd64 file amd64 1:5.32-2ubuntu0.3 [22.1 kB]\n",
            "Get:4 http://archive.ubuntu.com/ubuntu bionic-updates/main amd64 gettext-base amd64 0.19.8.1-6ubuntu0.3 [113 kB]\n",
            "Get:5 http://archive.ubuntu.com/ubuntu bionic/main amd64 libsigsegv2 amd64 2.12-1 [14.7 kB]\n",
            "Get:6 http://archive.ubuntu.com/ubuntu bionic/main amd64 m4 amd64 1.4.18-1 [197 kB]\n",
            "Get:7 http://archive.ubuntu.com/ubuntu bionic/main amd64 autoconf all 2.69-11 [322 kB]\n",
            "Get:8 http://archive.ubuntu.com/ubuntu bionic/main amd64 autotools-dev all 20180224.1 [39.6 kB]\n",
            "Get:9 http://archive.ubuntu.com/ubuntu bionic/main amd64 automake all 1:1.15.1-3ubuntu2 [509 kB]\n",
            "Get:10 http://archive.ubuntu.com/ubuntu bionic-updates/main amd64 autopoint all 0.19.8.1-6ubuntu0.3 [426 kB]\n",
            "Get:11 http://archive.ubuntu.com/ubuntu bionic/main amd64 libtool all 2.4.6-2 [194 kB]\n",
            "Get:12 http://archive.ubuntu.com/ubuntu bionic/main amd64 dh-autoreconf all 17 [15.8 kB]\n",
            "Get:13 http://archive.ubuntu.com/ubuntu bionic-updates/main amd64 libarchive-zip-perl all 1.60-1ubuntu0.1 [84.6 kB]\n",
            "Get:14 http://archive.ubuntu.com/ubuntu bionic/main amd64 libfile-stripnondeterminism-perl all 0.040-1.1~build1 [13.8 kB]\n",
            "Get:15 http://archive.ubuntu.com/ubuntu bionic/main amd64 libtimedate-perl all 2.3000-2 [37.5 kB]\n",
            "Get:16 http://archive.ubuntu.com/ubuntu bionic/main amd64 dh-strip-nondeterminism all 0.040-1.1~build1 [5,208 B]\n",
            "Get:17 http://archive.ubuntu.com/ubuntu bionic-updates/main amd64 gettext amd64 0.19.8.1-6ubuntu0.3 [1,293 kB]\n",
            "Get:18 http://archive.ubuntu.com/ubuntu bionic/main amd64 intltool-debian all 0.35.0+20060710.4 [24.9 kB]\n",
            "Get:19 http://archive.ubuntu.com/ubuntu bionic/main amd64 po-debconf all 1.0.20 [232 kB]\n",
            "Get:20 http://archive.ubuntu.com/ubuntu bionic-updates/main amd64 debhelper all 11.1.6ubuntu2 [902 kB]\n",
            "Get:21 http://archive.ubuntu.com/ubuntu bionic/main amd64 gir1.2-atk-1.0 amd64 2.28.1-1 [17.8 kB]\n",
            "Get:22 http://archive.ubuntu.com/ubuntu bionic/main amd64 gir1.2-freedesktop amd64 1.56.1-1 [9,080 B]\n",
            "Get:23 http://archive.ubuntu.com/ubuntu bionic/main amd64 gir1.2-gdkpixbuf-2.0 amd64 2.36.11-2 [7,748 B]\n",
            "Get:24 http://archive.ubuntu.com/ubuntu bionic-updates/main amd64 libpangoxft-1.0-0 amd64 1.40.14-1ubuntu0.1 [15.0 kB]\n",
            "Get:25 http://archive.ubuntu.com/ubuntu bionic-updates/main amd64 gir1.2-pango-1.0 amd64 1.40.14-1ubuntu0.1 [21.6 kB]\n",
            "Get:26 http://archive.ubuntu.com/ubuntu bionic/main amd64 gir1.2-gtk-2.0 amd64 2.24.32-1ubuntu1 [172 kB]\n",
            "Get:27 http://archive.ubuntu.com/ubuntu bionic/main amd64 libarchive-cpio-perl all 0.10-1 [9,644 B]\n",
            "Get:28 http://archive.ubuntu.com/ubuntu bionic/main amd64 libatk1.0-dev amd64 2.28.1-1 [79.9 kB]\n",
            "Get:29 http://archive.ubuntu.com/ubuntu bionic-updates/main amd64 libcairo-script-interpreter2 amd64 1.15.10-2ubuntu0.1 [53.5 kB]\n",
            "Get:30 http://archive.ubuntu.com/ubuntu bionic/main amd64 libpixman-1-dev amd64 0.34.0-2 [244 kB]\n",
            "Get:31 http://archive.ubuntu.com/ubuntu bionic-updates/main amd64 libxcb-shm0-dev amd64 1.13-2~ubuntu18.04 [6,684 B]\n",
            "Get:32 http://archive.ubuntu.com/ubuntu bionic-updates/main amd64 libcairo2-dev amd64 1.15.10-2ubuntu0.1 [626 kB]\n",
            "Get:33 http://archive.ubuntu.com/ubuntu bionic/main amd64 libgdk-pixbuf2.0-dev amd64 2.36.11-2 [46.8 kB]\n",
            "Get:34 http://archive.ubuntu.com/ubuntu bionic-updates/main amd64 libpango1.0-dev amd64 1.40.14-1ubuntu0.1 [288 kB]\n",
            "Get:35 http://archive.ubuntu.com/ubuntu bionic/main amd64 x11proto-xinerama-dev all 2018.4-4 [2,628 B]\n",
            "Get:36 http://archive.ubuntu.com/ubuntu bionic/main amd64 libxinerama-dev amd64 2:1.1.3-1 [8,404 B]\n",
            "Get:37 http://archive.ubuntu.com/ubuntu bionic/main amd64 x11proto-randr-dev all 2018.4-4 [2,620 B]\n",
            "Get:38 http://archive.ubuntu.com/ubuntu bionic/main amd64 libxrandr-dev amd64 2:1.5.1-1 [24.0 kB]\n",
            "Get:39 http://archive.ubuntu.com/ubuntu bionic/main amd64 libxcursor-dev amd64 1:1.1.15-1 [26.5 kB]\n",
            "Get:40 http://archive.ubuntu.com/ubuntu bionic/main amd64 x11proto-composite-dev all 1:2018.4-4 [2,620 B]\n",
            "Get:41 http://archive.ubuntu.com/ubuntu bionic/main amd64 libxcomposite-dev amd64 1:0.4.4-2 [9,136 B]\n",
            "Get:42 http://archive.ubuntu.com/ubuntu bionic-updates/main amd64 libxml2-utils amd64 2.9.4+dfsg1-6.1ubuntu1.2 [35.8 kB]\n",
            "Get:43 http://archive.ubuntu.com/ubuntu bionic/main amd64 libgtk2.0-dev amd64 2.24.32-1ubuntu1 [2,652 kB]\n",
            "Get:44 http://archive.ubuntu.com/ubuntu bionic/main amd64 libsys-hostname-long-perl all 1.5-1 [11.7 kB]\n",
            "Get:45 http://archive.ubuntu.com/ubuntu bionic/main amd64 libmail-sendmail-perl all 0.80-1 [22.6 kB]\n",
            "Get:46 http://archive.ubuntu.com/ubuntu bionic/universe amd64 python3-virtualenv all 15.1.0+ds-1.1 [43.4 kB]\n",
            "Get:47 http://archive.ubuntu.com/ubuntu bionic/universe amd64 virtualenv all 15.1.0+ds-1.1 [4,476 B]\n",
            "Fetched 9,143 kB in 0s (19.3 MB/s)\n",
            "Extracting templates from packages: 100%\n",
            "Selecting previously unselected package libmagic-mgc.\n",
            "(Reading database ... 147383 files and directories currently installed.)\n",
            "Preparing to unpack .../00-libmagic-mgc_1%3a5.32-2ubuntu0.3_amd64.deb ...\n",
            "Unpacking libmagic-mgc (1:5.32-2ubuntu0.3) ...\n",
            "Selecting previously unselected package libmagic1:amd64.\n",
            "Preparing to unpack .../01-libmagic1_1%3a5.32-2ubuntu0.3_amd64.deb ...\n",
            "Unpacking libmagic1:amd64 (1:5.32-2ubuntu0.3) ...\n",
            "Selecting previously unselected package file.\n",
            "Preparing to unpack .../02-file_1%3a5.32-2ubuntu0.3_amd64.deb ...\n",
            "Unpacking file (1:5.32-2ubuntu0.3) ...\n",
            "Selecting previously unselected package gettext-base.\n",
            "Preparing to unpack .../03-gettext-base_0.19.8.1-6ubuntu0.3_amd64.deb ...\n",
            "Unpacking gettext-base (0.19.8.1-6ubuntu0.3) ...\n",
            "Selecting previously unselected package libsigsegv2:amd64.\n",
            "Preparing to unpack .../04-libsigsegv2_2.12-1_amd64.deb ...\n",
            "Unpacking libsigsegv2:amd64 (2.12-1) ...\n",
            "Selecting previously unselected package m4.\n",
            "Preparing to unpack .../05-m4_1.4.18-1_amd64.deb ...\n",
            "Unpacking m4 (1.4.18-1) ...\n",
            "Selecting previously unselected package autoconf.\n",
            "Preparing to unpack .../06-autoconf_2.69-11_all.deb ...\n",
            "Unpacking autoconf (2.69-11) ...\n",
            "Selecting previously unselected package autotools-dev.\n",
            "Preparing to unpack .../07-autotools-dev_20180224.1_all.deb ...\n",
            "Unpacking autotools-dev (20180224.1) ...\n",
            "Selecting previously unselected package automake.\n",
            "Preparing to unpack .../08-automake_1%3a1.15.1-3ubuntu2_all.deb ...\n",
            "Unpacking automake (1:1.15.1-3ubuntu2) ...\n",
            "Selecting previously unselected package autopoint.\n",
            "Preparing to unpack .../09-autopoint_0.19.8.1-6ubuntu0.3_all.deb ...\n",
            "Unpacking autopoint (0.19.8.1-6ubuntu0.3) ...\n",
            "Selecting previously unselected package libtool.\n",
            "Preparing to unpack .../10-libtool_2.4.6-2_all.deb ...\n",
            "Unpacking libtool (2.4.6-2) ...\n",
            "Selecting previously unselected package dh-autoreconf.\n",
            "Preparing to unpack .../11-dh-autoreconf_17_all.deb ...\n",
            "Unpacking dh-autoreconf (17) ...\n",
            "Selecting previously unselected package libarchive-zip-perl.\n",
            "Preparing to unpack .../12-libarchive-zip-perl_1.60-1ubuntu0.1_all.deb ...\n",
            "Unpacking libarchive-zip-perl (1.60-1ubuntu0.1) ...\n",
            "Selecting previously unselected package libfile-stripnondeterminism-perl.\n",
            "Preparing to unpack .../13-libfile-stripnondeterminism-perl_0.040-1.1~build1_all.deb ...\n",
            "Unpacking libfile-stripnondeterminism-perl (0.040-1.1~build1) ...\n",
            "Selecting previously unselected package libtimedate-perl.\n",
            "Preparing to unpack .../14-libtimedate-perl_2.3000-2_all.deb ...\n",
            "Unpacking libtimedate-perl (2.3000-2) ...\n",
            "Selecting previously unselected package dh-strip-nondeterminism.\n",
            "Preparing to unpack .../15-dh-strip-nondeterminism_0.040-1.1~build1_all.deb ...\n",
            "Unpacking dh-strip-nondeterminism (0.040-1.1~build1) ...\n",
            "Selecting previously unselected package gettext.\n",
            "Preparing to unpack .../16-gettext_0.19.8.1-6ubuntu0.3_amd64.deb ...\n",
            "Unpacking gettext (0.19.8.1-6ubuntu0.3) ...\n",
            "Selecting previously unselected package intltool-debian.\n",
            "Preparing to unpack .../17-intltool-debian_0.35.0+20060710.4_all.deb ...\n",
            "Unpacking intltool-debian (0.35.0+20060710.4) ...\n",
            "Selecting previously unselected package po-debconf.\n",
            "Preparing to unpack .../18-po-debconf_1.0.20_all.deb ...\n",
            "Unpacking po-debconf (1.0.20) ...\n",
            "Selecting previously unselected package debhelper.\n",
            "Preparing to unpack .../19-debhelper_11.1.6ubuntu2_all.deb ...\n",
            "Unpacking debhelper (11.1.6ubuntu2) ...\n",
            "Selecting previously unselected package gir1.2-atk-1.0:amd64.\n",
            "Preparing to unpack .../20-gir1.2-atk-1.0_2.28.1-1_amd64.deb ...\n",
            "Unpacking gir1.2-atk-1.0:amd64 (2.28.1-1) ...\n",
            "Selecting previously unselected package gir1.2-freedesktop:amd64.\n",
            "Preparing to unpack .../21-gir1.2-freedesktop_1.56.1-1_amd64.deb ...\n",
            "Unpacking gir1.2-freedesktop:amd64 (1.56.1-1) ...\n",
            "Selecting previously unselected package gir1.2-gdkpixbuf-2.0:amd64.\n",
            "Preparing to unpack .../22-gir1.2-gdkpixbuf-2.0_2.36.11-2_amd64.deb ...\n",
            "Unpacking gir1.2-gdkpixbuf-2.0:amd64 (2.36.11-2) ...\n",
            "Selecting previously unselected package libpangoxft-1.0-0:amd64.\n",
            "Preparing to unpack .../23-libpangoxft-1.0-0_1.40.14-1ubuntu0.1_amd64.deb ...\n",
            "Unpacking libpangoxft-1.0-0:amd64 (1.40.14-1ubuntu0.1) ...\n",
            "Selecting previously unselected package gir1.2-pango-1.0:amd64.\n",
            "Preparing to unpack .../24-gir1.2-pango-1.0_1.40.14-1ubuntu0.1_amd64.deb ...\n",
            "Unpacking gir1.2-pango-1.0:amd64 (1.40.14-1ubuntu0.1) ...\n",
            "Selecting previously unselected package gir1.2-gtk-2.0.\n",
            "Preparing to unpack .../25-gir1.2-gtk-2.0_2.24.32-1ubuntu1_amd64.deb ...\n",
            "Unpacking gir1.2-gtk-2.0 (2.24.32-1ubuntu1) ...\n",
            "Selecting previously unselected package libarchive-cpio-perl.\n",
            "Preparing to unpack .../26-libarchive-cpio-perl_0.10-1_all.deb ...\n",
            "Unpacking libarchive-cpio-perl (0.10-1) ...\n",
            "Selecting previously unselected package libatk1.0-dev:amd64.\n",
            "Preparing to unpack .../27-libatk1.0-dev_2.28.1-1_amd64.deb ...\n",
            "Unpacking libatk1.0-dev:amd64 (2.28.1-1) ...\n",
            "Selecting previously unselected package libcairo-script-interpreter2:amd64.\n",
            "Preparing to unpack .../28-libcairo-script-interpreter2_1.15.10-2ubuntu0.1_amd64.deb ...\n",
            "Unpacking libcairo-script-interpreter2:amd64 (1.15.10-2ubuntu0.1) ...\n",
            "Selecting previously unselected package libpixman-1-dev:amd64.\n",
            "Preparing to unpack .../29-libpixman-1-dev_0.34.0-2_amd64.deb ...\n",
            "Unpacking libpixman-1-dev:amd64 (0.34.0-2) ...\n",
            "Selecting previously unselected package libxcb-shm0-dev:amd64.\n",
            "Preparing to unpack .../30-libxcb-shm0-dev_1.13-2~ubuntu18.04_amd64.deb ...\n",
            "Unpacking libxcb-shm0-dev:amd64 (1.13-2~ubuntu18.04) ...\n",
            "Selecting previously unselected package libcairo2-dev:amd64.\n",
            "Preparing to unpack .../31-libcairo2-dev_1.15.10-2ubuntu0.1_amd64.deb ...\n",
            "Unpacking libcairo2-dev:amd64 (1.15.10-2ubuntu0.1) ...\n",
            "Selecting previously unselected package libgdk-pixbuf2.0-dev.\n",
            "Preparing to unpack .../32-libgdk-pixbuf2.0-dev_2.36.11-2_amd64.deb ...\n",
            "Unpacking libgdk-pixbuf2.0-dev (2.36.11-2) ...\n",
            "Selecting previously unselected package libpango1.0-dev.\n",
            "Preparing to unpack .../33-libpango1.0-dev_1.40.14-1ubuntu0.1_amd64.deb ...\n",
            "Unpacking libpango1.0-dev (1.40.14-1ubuntu0.1) ...\n",
            "Selecting previously unselected package x11proto-xinerama-dev.\n",
            "Preparing to unpack .../34-x11proto-xinerama-dev_2018.4-4_all.deb ...\n",
            "Unpacking x11proto-xinerama-dev (2018.4-4) ...\n",
            "Selecting previously unselected package libxinerama-dev:amd64.\n",
            "Preparing to unpack .../35-libxinerama-dev_2%3a1.1.3-1_amd64.deb ...\n",
            "Unpacking libxinerama-dev:amd64 (2:1.1.3-1) ...\n",
            "Selecting previously unselected package x11proto-randr-dev.\n",
            "Preparing to unpack .../36-x11proto-randr-dev_2018.4-4_all.deb ...\n",
            "Unpacking x11proto-randr-dev (2018.4-4) ...\n",
            "Selecting previously unselected package libxrandr-dev:amd64.\n",
            "Preparing to unpack .../37-libxrandr-dev_2%3a1.5.1-1_amd64.deb ...\n",
            "Unpacking libxrandr-dev:amd64 (2:1.5.1-1) ...\n",
            "Selecting previously unselected package libxcursor-dev:amd64.\n",
            "Preparing to unpack .../38-libxcursor-dev_1%3a1.1.15-1_amd64.deb ...\n",
            "Unpacking libxcursor-dev:amd64 (1:1.1.15-1) ...\n",
            "Selecting previously unselected package x11proto-composite-dev.\n",
            "Preparing to unpack .../39-x11proto-composite-dev_1%3a2018.4-4_all.deb ...\n",
            "Unpacking x11proto-composite-dev (1:2018.4-4) ...\n",
            "Selecting previously unselected package libxcomposite-dev:amd64.\n",
            "Preparing to unpack .../40-libxcomposite-dev_1%3a0.4.4-2_amd64.deb ...\n",
            "Unpacking libxcomposite-dev:amd64 (1:0.4.4-2) ...\n",
            "Selecting previously unselected package libxml2-utils.\n",
            "Preparing to unpack .../41-libxml2-utils_2.9.4+dfsg1-6.1ubuntu1.2_amd64.deb ...\n",
            "Unpacking libxml2-utils (2.9.4+dfsg1-6.1ubuntu1.2) ...\n",
            "Selecting previously unselected package libgtk2.0-dev.\n",
            "Preparing to unpack .../42-libgtk2.0-dev_2.24.32-1ubuntu1_amd64.deb ...\n",
            "Unpacking libgtk2.0-dev (2.24.32-1ubuntu1) ...\n",
            "Selecting previously unselected package libsys-hostname-long-perl.\n",
            "Preparing to unpack .../43-libsys-hostname-long-perl_1.5-1_all.deb ...\n",
            "Unpacking libsys-hostname-long-perl (1.5-1) ...\n",
            "Selecting previously unselected package libmail-sendmail-perl.\n",
            "Preparing to unpack .../44-libmail-sendmail-perl_0.80-1_all.deb ...\n",
            "Unpacking libmail-sendmail-perl (0.80-1) ...\n",
            "Selecting previously unselected package python3-virtualenv.\n",
            "Preparing to unpack .../45-python3-virtualenv_15.1.0+ds-1.1_all.deb ...\n",
            "Unpacking python3-virtualenv (15.1.0+ds-1.1) ...\n",
            "Selecting previously unselected package virtualenv.\n",
            "Preparing to unpack .../46-virtualenv_15.1.0+ds-1.1_all.deb ...\n",
            "Unpacking virtualenv (15.1.0+ds-1.1) ...\n",
            "Setting up libxcursor-dev:amd64 (1:1.1.15-1) ...\n",
            "Setting up gir1.2-atk-1.0:amd64 (2.28.1-1) ...\n",
            "Setting up libarchive-zip-perl (1.60-1ubuntu0.1) ...\n",
            "Setting up libtimedate-perl (2.3000-2) ...\n",
            "Setting up libcairo-script-interpreter2:amd64 (1.15.10-2ubuntu0.1) ...\n",
            "Setting up libsigsegv2:amd64 (2.12-1) ...\n",
            "Setting up gir1.2-freedesktop:amd64 (1.56.1-1) ...\n",
            "Setting up libxcb-shm0-dev:amd64 (1.13-2~ubuntu18.04) ...\n",
            "Setting up libpangoxft-1.0-0:amd64 (1.40.14-1ubuntu0.1) ...\n",
            "Setting up libxml2-utils (2.9.4+dfsg1-6.1ubuntu1.2) ...\n",
            "Setting up libarchive-cpio-perl (0.10-1) ...\n",
            "Setting up gir1.2-gdkpixbuf-2.0:amd64 (2.36.11-2) ...\n",
            "Setting up libatk1.0-dev:amd64 (2.28.1-1) ...\n",
            "Setting up gettext-base (0.19.8.1-6ubuntu0.3) ...\n",
            "Setting up m4 (1.4.18-1) ...\n",
            "Setting up libmagic-mgc (1:5.32-2ubuntu0.3) ...\n",
            "Setting up gir1.2-pango-1.0:amd64 (1.40.14-1ubuntu0.1) ...\n",
            "Setting up libmagic1:amd64 (1:5.32-2ubuntu0.3) ...\n",
            "Setting up libsys-hostname-long-perl (1.5-1) ...\n",
            "Setting up libgdk-pixbuf2.0-dev (2.36.11-2) ...\n",
            "Setting up libmail-sendmail-perl (0.80-1) ...\n",
            "Setting up x11proto-xinerama-dev (2018.4-4) ...\n",
            "Setting up autotools-dev (20180224.1) ...\n",
            "Setting up libpixman-1-dev:amd64 (0.34.0-2) ...\n",
            "Setting up x11proto-randr-dev (2018.4-4) ...\n",
            "Setting up libxinerama-dev:amd64 (2:1.1.3-1) ...\n",
            "Setting up python3-virtualenv (15.1.0+ds-1.1) ...\n",
            "Setting up virtualenv (15.1.0+ds-1.1) ...\n",
            "Setting up x11proto-composite-dev (1:2018.4-4) ...\n",
            "Setting up autopoint (0.19.8.1-6ubuntu0.3) ...\n",
            "Setting up libfile-stripnondeterminism-perl (0.040-1.1~build1) ...\n",
            "Setting up gir1.2-gtk-2.0 (2.24.32-1ubuntu1) ...\n",
            "Setting up libxrandr-dev:amd64 (2:1.5.1-1) ...\n",
            "Setting up libcairo2-dev:amd64 (1.15.10-2ubuntu0.1) ...\n",
            "Setting up gettext (0.19.8.1-6ubuntu0.3) ...\n",
            "Setting up libxcomposite-dev:amd64 (1:0.4.4-2) ...\n",
            "Setting up autoconf (2.69-11) ...\n",
            "Setting up file (1:5.32-2ubuntu0.3) ...\n",
            "Setting up intltool-debian (0.35.0+20060710.4) ...\n",
            "Setting up automake (1:1.15.1-3ubuntu2) ...\n",
            "update-alternatives: using /usr/bin/automake-1.15 to provide /usr/bin/automake (automake) in auto mode\n",
            "Setting up libpango1.0-dev (1.40.14-1ubuntu0.1) ...\n",
            "Setting up libtool (2.4.6-2) ...\n",
            "Setting up po-debconf (1.0.20) ...\n",
            "Setting up libgtk2.0-dev (2.24.32-1ubuntu1) ...\n",
            "Setting up dh-autoreconf (17) ...\n",
            "Setting up debhelper (11.1.6ubuntu2) ...\n",
            "Setting up dh-strip-nondeterminism (0.040-1.1~build1) ...\n",
            "Processing triggers for libc-bin (2.27-3ubuntu1) ...\n",
            "Processing triggers for man-db (2.8.3-2ubuntu0.1) ...\n",
            "Reading package lists... Done\n",
            "Building dependency tree       \n",
            "Reading state information... Done\n",
            "libpng-dev is already the newest version (1.6.34-1ubuntu0.18.04.2).\n",
            "0 upgraded, 0 newly installed, 0 to remove and 19 not upgraded.\n",
            "Requirement already satisfied: pyyaml in /usr/local/lib/python3.6/dist-packages (from -r /opt/intel/openvino_2019.3.376/deployment_tools/demo/../open_model_zoo/tools/downloader/requirements.in (line 1)) (3.13)\n",
            "Requirement already satisfied: requests in /usr/local/lib/python3.6/dist-packages (from -r /opt/intel/openvino_2019.3.376/deployment_tools/demo/../open_model_zoo/tools/downloader/requirements.in (line 2)) (2.21.0)\n",
            "Requirement already satisfied: certifi>=2017.4.17 in /usr/local/lib/python3.6/dist-packages (from requests->-r /opt/intel/openvino_2019.3.376/deployment_tools/demo/../open_model_zoo/tools/downloader/requirements.in (line 2)) (2019.11.28)\n",
            "Requirement already satisfied: chardet<3.1.0,>=3.0.2 in /usr/local/lib/python3.6/dist-packages (from requests->-r /opt/intel/openvino_2019.3.376/deployment_tools/demo/../open_model_zoo/tools/downloader/requirements.in (line 2)) (3.0.4)\n",
            "Requirement already satisfied: urllib3<1.25,>=1.21.1 in /usr/local/lib/python3.6/dist-packages (from requests->-r /opt/intel/openvino_2019.3.376/deployment_tools/demo/../open_model_zoo/tools/downloader/requirements.in (line 2)) (1.24.3)\n",
            "Requirement already satisfied: idna<2.9,>=2.5 in /usr/local/lib/python3.6/dist-packages (from requests->-r /opt/intel/openvino_2019.3.376/deployment_tools/demo/../open_model_zoo/tools/downloader/requirements.in (line 2)) (2.8)\n",
            "Run python3 /opt/intel/openvino_2019.3.376/deployment_tools/open_model_zoo/tools/downloader/downloader.py --name squeezenet1.1 --output_dir /root/openvino_models/models --cache_dir /root/openvino_models/cache\n",
            "\n",
            "################|| Downloading models ||################\n",
            "\n",
            "========== Downloading /root/openvino_models/models/public/squeezenet1.1/squeezenet1.1.prototxt\n",
            "... 100%, 9 KB, 52648 KB/s, 0 seconds passed\n",
            "\n",
            "========== Downloading /root/openvino_models/models/public/squeezenet1.1/squeezenet1.1.caffemodel\n",
            "... 100%, 4834 KB, 91378 KB/s, 0 seconds passed\n",
            "\n",
            "################|| Post-processing ||################\n",
            "\n",
            "========== Replacing text in /root/openvino_models/models/public/squeezenet1.1/squeezenet1.1.prototxt\n",
            "\n",
            "\n",
            "###################################################\n",
            "\n",
            "Install Model Optimizer dependencies\n",
            "\n",
            "Hit:1 http://ppa.launchpad.net/graphics-drivers/ppa/ubuntu bionic InRelease\n",
            "Hit:2 http://ppa.launchpad.net/marutter/c2d4u3.5/ubuntu bionic InRelease\n",
            "Hit:3 https://cloud.r-project.org/bin/linux/ubuntu bionic-cran35/ InRelease\n",
            "Ign:4 https://developer.download.nvidia.com/compute/cuda/repos/ubuntu1804/x86_64  InRelease\n",
            "Ign:5 https://developer.download.nvidia.com/compute/machine-learning/repos/ubuntu1804/x86_64  InRelease\n",
            "Hit:6 http://archive.ubuntu.com/ubuntu bionic InRelease\n",
            "Hit:7 https://developer.download.nvidia.com/compute/cuda/repos/ubuntu1804/x86_64  Release\n",
            "Hit:8 http://security.ubuntu.com/ubuntu bionic-security InRelease\n",
            "Hit:9 http://archive.ubuntu.com/ubuntu bionic-updates InRelease\n",
            "Hit:10 https://developer.download.nvidia.com/compute/machine-learning/repos/ubuntu1804/x86_64  Release\n",
            "Hit:11 http://archive.ubuntu.com/ubuntu bionic-backports InRelease\n",
            "Reading package lists... Done\n",
            "Building dependency tree       \n",
            "Reading state information... Done\n",
            "19 packages can be upgraded. Run 'apt list --upgradable' to see them.\n",
            "Reading package lists... Done\n",
            "Building dependency tree       \n",
            "Reading state information... Done\n",
            "libgfortran3 is already the newest version (6.5.0-2ubuntu1~18.04).\n",
            "python3-pip is already the newest version (9.0.1-2.3~ubuntu1.18.04.1).\n",
            "python3-venv is already the newest version (3.6.7-1~18.04).\n",
            "0 upgraded, 0 newly installed, 0 to remove and 19 not upgraded.\n",
            "Requirement already satisfied: networkx<2.4,>=1.11 in /usr/local/lib/python3.6/dist-packages (from -r /opt/intel/openvino_2019.3.376/deployment_tools/model_optimizer/install_prerequisites/../requirements_caffe.txt (line 1)) (2.3)\n",
            "Requirement already satisfied: numpy>=1.12.0 in /usr/local/lib/python3.6/dist-packages (from -r /opt/intel/openvino_2019.3.376/deployment_tools/model_optimizer/install_prerequisites/../requirements_caffe.txt (line 2)) (1.17.4)\n",
            "Requirement already satisfied: protobuf==3.6.1 in /usr/local/lib/python3.6/dist-packages (from -r /opt/intel/openvino_2019.3.376/deployment_tools/model_optimizer/install_prerequisites/../requirements_caffe.txt (line 3)) (3.6.1)\n",
            "Requirement already satisfied: defusedxml>=0.5.0 in /usr/local/lib/python3.6/dist-packages (from -r /opt/intel/openvino_2019.3.376/deployment_tools/model_optimizer/install_prerequisites/../requirements_caffe.txt (line 4)) (0.6.0)\n",
            "Requirement already satisfied: decorator>=4.3.0 in /usr/local/lib/python3.6/dist-packages (from networkx<2.4,>=1.11->-r /opt/intel/openvino_2019.3.376/deployment_tools/model_optimizer/install_prerequisites/../requirements_caffe.txt (line 1)) (4.4.1)\n",
            "Requirement already satisfied: six>=1.9 in /usr/local/lib/python3.6/dist-packages (from protobuf==3.6.1->-r /opt/intel/openvino_2019.3.376/deployment_tools/model_optimizer/install_prerequisites/../requirements_caffe.txt (line 3)) (1.12.0)\n",
            "Requirement already satisfied: setuptools in /usr/local/lib/python3.6/dist-packages (from protobuf==3.6.1->-r /opt/intel/openvino_2019.3.376/deployment_tools/model_optimizer/install_prerequisites/../requirements_caffe.txt (line 3)) (42.0.2)\n",
            "[WARNING] All Model Optimizer dependencies are installed globally.\n",
            "[WARNING] If you want to keep Model Optimizer in separate sandbox\n",
            "[WARNING] run install_prerequisites.sh venv {caffe|tf|mxnet|kaldi|onnx}\n",
            "\n",
            "\n",
            "###################################################\n",
            "\n",
            "Convert a model with Model Optimizer\n",
            "\n",
            "Run python3 /opt/intel/openvino_2019.3.376/deployment_tools/open_model_zoo/tools/downloader/converter.py --mo /opt/intel/openvino_2019.3.376/deployment_tools/model_optimizer/mo.py --name squeezenet1.1 -d /root/openvino_models/models -o /root/openvino_models/ir --precisions FP16\n",
            "\n",
            "========= Converting squeezenet1.1 to IR (FP16)\n",
            "Conversion command: /usr/bin/python3 -- /opt/intel/openvino_2019.3.376/deployment_tools/model_optimizer/mo.py --framework=caffe --data_type=FP16 --output_dir=/root/openvino_models/ir/public/squeezenet1.1/FP16 --model_name=squeezenet1.1 '--input_shape=[1,3,227,227]' --input=data '--mean_values=data[104.0,117.0,123.0]' --output=prob --input_model=/root/openvino_models/models/public/squeezenet1.1/squeezenet1.1.caffemodel --input_proto=/root/openvino_models/models/public/squeezenet1.1/squeezenet1.1.prototxt\n",
            "\n",
            "Model Optimizer arguments:\n",
            "Common parameters:\n",
            "\t- Path to the Input Model: \t/root/openvino_models/models/public/squeezenet1.1/squeezenet1.1.caffemodel\n",
            "\t- Path for generated IR: \t/root/openvino_models/ir/public/squeezenet1.1/FP16\n",
            "\t- IR output name: \tsqueezenet1.1\n",
            "\t- Log level: \tERROR\n",
            "\t- Batch: \tNot specified, inherited from the model\n",
            "\t- Input layers: \tdata\n",
            "\t- Output layers: \tprob\n",
            "\t- Input shapes: \t[1,3,227,227]\n",
            "\t- Mean values: \tdata[104.0,117.0,123.0]\n",
            "\t- Scale values: \tNot specified\n",
            "\t- Scale factor: \tNot specified\n",
            "\t- Precision of IR: \tFP16\n",
            "\t- Enable fusing: \tTrue\n",
            "\t- Enable grouped convolutions fusing: \tTrue\n",
            "\t- Move mean values to preprocess section: \tFalse\n",
            "\t- Reverse input channels: \tFalse\n",
            "Caffe specific parameters:\n",
            "\t- Path to Python Caffe* parser generated from caffe.proto: \t/opt/intel/openvino_2019.3.376/deployment_tools/model_optimizer/mo/front/caffe/proto\n",
            "\t- Enable resnet optimization: \tTrue\n",
            "\t- Path to the Input prototxt: \t/root/openvino_models/models/public/squeezenet1.1/squeezenet1.1.prototxt\n",
            "\t- Path to CustomLayersMapping.xml: \tDefault\n",
            "\t- Path to a mean file: \tNot specified\n",
            "\t- Offsets for a mean file: \tNot specified\n",
            "Model Optimizer version: \t2019.3.0-408-gac8584cb7\n",
            "\n",
            "[ SUCCESS ] Generated IR model.\n",
            "[ SUCCESS ] XML file: /root/openvino_models/ir/public/squeezenet1.1/FP16/squeezenet1.1.xml\n",
            "[ SUCCESS ] BIN file: /root/openvino_models/ir/public/squeezenet1.1/FP16/squeezenet1.1.bin\n",
            "[ SUCCESS ] Total execution time: 3.60 seconds. \n",
            "\n",
            "\n",
            "\n",
            "###################################################\n",
            "\n",
            "Build Inference Engine samples\n",
            "\n",
            "-- The C compiler identification is GNU 7.4.0\n",
            "-- The CXX compiler identification is GNU 7.4.0\n",
            "-- Check for working C compiler: /usr/bin/cc\n",
            "-- Check for working C compiler: /usr/bin/cc -- works\n",
            "-- Detecting C compiler ABI info\n",
            "-- Detecting C compiler ABI info - done\n",
            "-- Detecting C compile features\n",
            "-- Detecting C compile features - done\n",
            "-- Check for working CXX compiler: /usr/bin/c++\n",
            "-- Check for working CXX compiler: /usr/bin/c++ -- works\n",
            "-- Detecting CXX compiler ABI info\n",
            "-- Detecting CXX compiler ABI info - done\n",
            "-- Detecting CXX compile features\n",
            "-- Detecting CXX compile features - done\n",
            "-- Looking for C++ include unistd.h\n",
            "-- Looking for C++ include unistd.h - found\n",
            "-- Looking for C++ include stdint.h\n",
            "-- Looking for C++ include stdint.h - found\n",
            "-- Looking for C++ include sys/types.h\n",
            "-- Looking for C++ include sys/types.h - found\n",
            "-- Looking for C++ include fnmatch.h\n",
            "-- Looking for C++ include fnmatch.h - found\n",
            "-- Looking for C++ include stddef.h\n",
            "-- Looking for C++ include stddef.h - found\n",
            "-- Check size of uint32_t\n",
            "-- Check size of uint32_t - done\n",
            "-- Looking for strtoll\n",
            "-- Looking for strtoll - found\n",
            "-- Found InferenceEngine: /opt/intel/openvino_2019.3.376/deployment_tools/inference_engine/lib/intel64/libinference_engine.so (Required is at least version \"2.1\") \n",
            "-- Performing Test HAVE_CPUID_INFO\n",
            "-- Performing Test HAVE_CPUID_INFO - Success\n",
            "-- Host CPU features:\n",
            "--   3DNOW not supported\n",
            "--   3DNOWEXT not supported\n",
            "--   ABM not supported\n",
            "--   ADX not supported\n",
            "--   AES supported\n",
            "--   AVX supported\n",
            "--   AVX2 supported\n",
            "--   AVX512CD not supported\n",
            "--   AVX512F not supported\n",
            "--   AVX512ER not supported\n",
            "--   AVX512PF not supported\n",
            "--   BMI1 supported\n",
            "--   BMI2 supported\n",
            "--   CLFSH supported\n",
            "--   CMPXCHG16B supported\n",
            "--   CX8 supported\n",
            "--   ERMS supported\n",
            "--   F16C supported\n",
            "--   FMA supported\n",
            "--   FSGSBASE supported\n",
            "--   FXSR supported\n",
            "--   HLE not supported\n",
            "--   INVPCID supported\n",
            "--   LAHF supported\n",
            "--   LZCNT supported\n",
            "--   MMX supported\n",
            "--   MMXEXT not supported\n",
            "--   MONITOR not supported\n",
            "--   MOVBE supported\n",
            "--   MSR supported\n",
            "--   OSXSAVE supported\n",
            "--   PCLMULQDQ supported\n",
            "--   POPCNT supported\n",
            "--   PREFETCHWT1 not supported\n",
            "--   RDRAND supported\n",
            "--   RDSEED not supported\n",
            "--   RDTSCP supported\n",
            "--   RTM not supported\n",
            "--   SEP supported\n",
            "--   SHA not supported\n",
            "--   SSE supported\n",
            "--   SSE2 supported\n",
            "--   SSE3 supported\n",
            "--   SSE4.1 supported\n",
            "--   SSE4.2 supported\n",
            "--   SSE4a not supported\n",
            "--   SSSE3 supported\n",
            "--   SYSCALL supported\n",
            "--   TBM not supported\n",
            "--   XOP not supported\n",
            "--   XSAVE supported\n",
            "-- TBB include: /opt/intel/openvino_2019.3.376/deployment_tools/inference_engine/external/tbb/include\n",
            "-- TBB Release lib: /opt/intel/openvino_2019.3.376/deployment_tools/inference_engine/external/tbb/lib/libtbb.so\n",
            "-- TBB Debug lib: /opt/intel/openvino_2019.3.376/deployment_tools/inference_engine/external/tbb/lib/libtbb_debug.so\n",
            "-- Looking for pthread.h\n",
            "-- Looking for pthread.h - found\n",
            "-- Looking for pthread_create\n",
            "-- Looking for pthread_create - not found\n",
            "-- Looking for pthread_create in pthreads\n",
            "-- Looking for pthread_create in pthreads - not found\n",
            "-- Looking for pthread_create in pthread\n",
            "-- Looking for pthread_create in pthread - found\n",
            "-- Found Threads: TRUE  \n",
            "-- Configuring done\n",
            "-- Generating done\n",
            "-- Build files have been written to: /root/inference_engine_samples_build\n",
            "\u001b[35m\u001b[1mScanning dependencies of target ie_cpu_extension\u001b[0m\n",
            "\u001b[35m\u001b[1mScanning dependencies of target format_reader\u001b[0m\n",
            "\u001b[35m\u001b[1mScanning dependencies of target gflags_nothreads_static\u001b[0m\n",
            "[  1%] \u001b[32mBuilding CXX object thirdparty/gflags/CMakeFiles/gflags_nothreads_static.dir/src/gflags_completions.cc.o\u001b[0m\n",
            "[  3%] \u001b[32mBuilding CXX object thirdparty/gflags/CMakeFiles/gflags_nothreads_static.dir/src/gflags.cc.o\u001b[0m\n",
            "[  5%] \u001b[32mBuilding CXX object thirdparty/gflags/CMakeFiles/gflags_nothreads_static.dir/src/gflags_reporting.cc.o\u001b[0m\n",
            "[  6%] \u001b[32mBuilding CXX object common/format_reader/CMakeFiles/format_reader.dir/opencv_wraper.cpp.o\u001b[0m\n",
            "[  8%] \u001b[32mBuilding CXX object common/format_reader/CMakeFiles/format_reader.dir/format_reader.cpp.o\u001b[0m\n",
            "[ 10%] \u001b[32mBuilding CXX object common/format_reader/CMakeFiles/format_reader.dir/bmp.cpp.o\u001b[0m\n",
            "[ 11%] \u001b[32mBuilding CXX object common/format_reader/CMakeFiles/format_reader.dir/MnistUbyte.cpp.o\u001b[0m\n",
            "[ 13%] \u001b[32mBuilding CXX object ie_cpu_extension/CMakeFiles/ie_cpu_extension.dir/common/simple_copy.cpp.o\u001b[0m\n",
            "[ 15%] \u001b[32mBuilding CXX object ie_cpu_extension/CMakeFiles/ie_cpu_extension.dir/ext_argmax.cpp.o\u001b[0m\n",
            "[ 16%] \u001b[32mBuilding CXX object ie_cpu_extension/CMakeFiles/ie_cpu_extension.dir/ext_base.cpp.o\u001b[0m\n",
            "[ 18%] \u001b[32mBuilding CXX object ie_cpu_extension/CMakeFiles/ie_cpu_extension.dir/ext_broadcast.cpp.o\u001b[0m\n",
            "[ 20%] \u001b[32mBuilding CXX object ie_cpu_extension/CMakeFiles/ie_cpu_extension.dir/ext_ctc_greedy.cpp.o\u001b[0m\n",
            "[ 22%] \u001b[32mBuilding CXX object ie_cpu_extension/CMakeFiles/ie_cpu_extension.dir/ext_depth_to_space.cpp.o\u001b[0m\n",
            "[ 23%] \u001b[32mBuilding CXX object ie_cpu_extension/CMakeFiles/ie_cpu_extension.dir/ext_detectionoutput.cpp.o\u001b[0m\n",
            "[ 25%] \u001b[32m\u001b[1mLinking CXX shared library ../../intel64/Release/lib/libformat_reader.so\u001b[0m\n",
            "[ 25%] Built target format_reader\n",
            "[ 27%] \u001b[32mBuilding CXX object ie_cpu_extension/CMakeFiles/ie_cpu_extension.dir/ext_detectionoutput_onnx.cpp.o\u001b[0m\n",
            "[ 28%] \u001b[32m\u001b[1mLinking CXX static library ../../intel64/Release/lib/libgflags_nothreads.a\u001b[0m\n",
            "[ 28%] Built target gflags_nothreads_static\n",
            "[ 30%] \u001b[32mBuilding CXX object ie_cpu_extension/CMakeFiles/ie_cpu_extension.dir/ext_fill.cpp.o\u001b[0m\n",
            "[ 32%] \u001b[32mBuilding CXX object ie_cpu_extension/CMakeFiles/ie_cpu_extension.dir/ext_gather.cpp.o\u001b[0m\n",
            "[ 33%] \u001b[32mBuilding CXX object ie_cpu_extension/CMakeFiles/ie_cpu_extension.dir/ext_gather_tree.cpp.o\u001b[0m\n",
            "[ 35%] \u001b[32mBuilding CXX object ie_cpu_extension/CMakeFiles/ie_cpu_extension.dir/ext_grn.cpp.o\u001b[0m\n",
            "[ 37%] \u001b[32mBuilding CXX object ie_cpu_extension/CMakeFiles/ie_cpu_extension.dir/ext_interp.cpp.o\u001b[0m\n",
            "[ 38%] \u001b[32mBuilding CXX object ie_cpu_extension/CMakeFiles/ie_cpu_extension.dir/ext_list.cpp.o\u001b[0m\n",
            "[ 40%] \u001b[32mBuilding CXX object ie_cpu_extension/CMakeFiles/ie_cpu_extension.dir/ext_log_softmax.cpp.o\u001b[0m\n",
            "[ 42%] \u001b[32mBuilding CXX object ie_cpu_extension/CMakeFiles/ie_cpu_extension.dir/ext_math.cpp.o\u001b[0m\n",
            "[ 44%] \u001b[32mBuilding CXX object ie_cpu_extension/CMakeFiles/ie_cpu_extension.dir/ext_mvn.cpp.o\u001b[0m\n",
            "[ 45%] \u001b[32mBuilding CXX object ie_cpu_extension/CMakeFiles/ie_cpu_extension.dir/ext_non_max_suppression.cpp.o\u001b[0m\n",
            "[ 47%] \u001b[32mBuilding CXX object ie_cpu_extension/CMakeFiles/ie_cpu_extension.dir/ext_normalize.cpp.o\u001b[0m\n",
            "[ 49%] \u001b[32mBuilding CXX object ie_cpu_extension/CMakeFiles/ie_cpu_extension.dir/ext_one_hot.cpp.o\u001b[0m\n",
            "[ 50%] \u001b[32mBuilding CXX object ie_cpu_extension/CMakeFiles/ie_cpu_extension.dir/ext_pad.cpp.o\u001b[0m\n",
            "[ 52%] \u001b[32mBuilding CXX object ie_cpu_extension/CMakeFiles/ie_cpu_extension.dir/ext_powerfile.cpp.o\u001b[0m\n",
            "[ 54%] \u001b[32mBuilding CXX object ie_cpu_extension/CMakeFiles/ie_cpu_extension.dir/ext_priorbox.cpp.o\u001b[0m\n",
            "[ 55%] \u001b[32mBuilding CXX object ie_cpu_extension/CMakeFiles/ie_cpu_extension.dir/ext_priorbox_clustered.cpp.o\u001b[0m\n",
            "[ 57%] \u001b[32mBuilding CXX object ie_cpu_extension/CMakeFiles/ie_cpu_extension.dir/ext_priorgridgenerator_onnx.cpp.o\u001b[0m\n",
            "[ 59%] \u001b[32mBuilding CXX object ie_cpu_extension/CMakeFiles/ie_cpu_extension.dir/ext_proposal.cpp.o\u001b[0m\n",
            "[ 61%] \u001b[32mBuilding CXX object ie_cpu_extension/CMakeFiles/ie_cpu_extension.dir/ext_proposal_onnx.cpp.o\u001b[0m\n",
            "[ 62%] \u001b[32mBuilding CXX object ie_cpu_extension/CMakeFiles/ie_cpu_extension.dir/ext_psroi.cpp.o\u001b[0m\n",
            "[ 64%] \u001b[32mBuilding CXX object ie_cpu_extension/CMakeFiles/ie_cpu_extension.dir/ext_range.cpp.o\u001b[0m\n",
            "[ 66%] \u001b[32mBuilding CXX object ie_cpu_extension/CMakeFiles/ie_cpu_extension.dir/ext_reduce.cpp.o\u001b[0m\n",
            "[ 67%] \u001b[32mBuilding CXX object ie_cpu_extension/CMakeFiles/ie_cpu_extension.dir/ext_region_yolo.cpp.o\u001b[0m\n",
            "[ 69%] \u001b[32mBuilding CXX object ie_cpu_extension/CMakeFiles/ie_cpu_extension.dir/ext_reorg_yolo.cpp.o\u001b[0m\n",
            "[ 71%] \u001b[32mBuilding CXX object ie_cpu_extension/CMakeFiles/ie_cpu_extension.dir/ext_resample.cpp.o\u001b[0m\n",
            "[ 72%] \u001b[32mBuilding CXX object ie_cpu_extension/CMakeFiles/ie_cpu_extension.dir/ext_reverse_sequence.cpp.o\u001b[0m\n",
            "[ 74%] \u001b[32mBuilding CXX object ie_cpu_extension/CMakeFiles/ie_cpu_extension.dir/ext_roifeatureextractor_onnx.cpp.o\u001b[0m\n",
            "[ 76%] \u001b[32mBuilding CXX object ie_cpu_extension/CMakeFiles/ie_cpu_extension.dir/ext_scatter.cpp.o\u001b[0m\n",
            "[ 77%] \u001b[32mBuilding CXX object ie_cpu_extension/CMakeFiles/ie_cpu_extension.dir/ext_select.cpp.o\u001b[0m\n",
            "[ 79%] \u001b[32mBuilding CXX object ie_cpu_extension/CMakeFiles/ie_cpu_extension.dir/ext_shuffle_channels.cpp.o\u001b[0m\n",
            "[ 81%] \u001b[32mBuilding CXX object ie_cpu_extension/CMakeFiles/ie_cpu_extension.dir/ext_simplernms.cpp.o\u001b[0m\n",
            "[ 83%] \u001b[32mBuilding CXX object ie_cpu_extension/CMakeFiles/ie_cpu_extension.dir/ext_space_to_depth.cpp.o\u001b[0m\n",
            "[ 84%] \u001b[32mBuilding CXX object ie_cpu_extension/CMakeFiles/ie_cpu_extension.dir/ext_sparse_fill_empty_rows.cpp.o\u001b[0m\n",
            "[ 86%] \u001b[32mBuilding CXX object ie_cpu_extension/CMakeFiles/ie_cpu_extension.dir/ext_squeeze.cpp.o\u001b[0m\n",
            "[ 88%] \u001b[32mBuilding CXX object ie_cpu_extension/CMakeFiles/ie_cpu_extension.dir/ext_strided_slice.cpp.o\u001b[0m\n",
            "[ 89%] \u001b[32mBuilding CXX object ie_cpu_extension/CMakeFiles/ie_cpu_extension.dir/ext_topk.cpp.o\u001b[0m\n",
            "[ 91%] \u001b[32mBuilding CXX object ie_cpu_extension/CMakeFiles/ie_cpu_extension.dir/ext_topkrois_onnx.cpp.o\u001b[0m\n",
            "[ 93%] \u001b[32mBuilding CXX object ie_cpu_extension/CMakeFiles/ie_cpu_extension.dir/ext_unique.cpp.o\u001b[0m\n",
            "[ 94%] \u001b[32mBuilding CXX object ie_cpu_extension/CMakeFiles/ie_cpu_extension.dir/ext_unsqueeze.cpp.o\u001b[0m\n",
            "[ 96%] \u001b[32m\u001b[1mLinking CXX shared library ../intel64/Release/lib/libcpu_extension.so\u001b[0m\n",
            "[ 96%] Built target ie_cpu_extension\n",
            "\u001b[35m\u001b[1mScanning dependencies of target classification_sample_async\u001b[0m\n",
            "[ 98%] \u001b[32mBuilding CXX object classification_sample_async/CMakeFiles/classification_sample_async.dir/main.cpp.o\u001b[0m\n",
            "[100%] \u001b[32m\u001b[1mLinking CXX executable ../intel64/Release/classification_sample_async\u001b[0m\n",
            "[100%] Built target classification_sample_async\n",
            "\n",
            "\n",
            "###################################################\n",
            "\n",
            "Run Inference Engine classification sample\n",
            "\n",
            "Run ./classification_sample_async -d CPU -i /opt/intel/openvino_2019.3.376/deployment_tools/demo/car.png -m /root/openvino_models/ir/public/squeezenet1.1/FP16/squeezenet1.1.xml\n",
            "\n",
            "[ INFO ] InferenceEngine: \n",
            "\tAPI version ............ 2.1\n",
            "\tBuild .................. custom_releases/2019/R3_ac8584cb714a697a12f1f30b7a3b78a5b9ac5e05\n",
            "\tDescription ....... API\n",
            "[ INFO ] Parsing input parameters\n",
            "[ INFO ] Parsing input parameters\n",
            "[ INFO ] Files were added: 1\n",
            "[ INFO ]     /opt/intel/openvino_2019.3.376/deployment_tools/demo/car.png\n",
            "[ INFO ] Creating Inference Engine\n",
            "\tCPU\n",
            "\tMKLDNNPlugin version ......... 2.1\n",
            "\tBuild ........... 32974\n",
            "\n",
            "[ INFO ] Loading network files\n",
            "[ INFO ] Preparing input blobs\n",
            "[ WARNING ] Image is resized from (787, 259) to (227, 227)\n",
            "[ INFO ] Batch size is 1\n",
            "[ INFO ] Loading model to the device\n",
            "[ INFO ] Create infer request\n",
            "[ INFO ] Start inference (10 asynchronous executions)\n",
            "[ INFO ] Completed 1 async request execution\n",
            "[ INFO ] Completed 2 async request execution\n",
            "[ INFO ] Completed 3 async request execution\n",
            "[ INFO ] Completed 4 async request execution\n",
            "[ INFO ] Completed 5 async request execution\n",
            "[ INFO ] Completed 6 async request execution\n",
            "[ INFO ] Completed 7 async request execution\n",
            "[ INFO ] Completed 8 async request execution\n",
            "[ INFO ] Completed 9 async request execution\n",
            "[ INFO ] Completed 10 async request execution\n",
            "[ INFO ] Processing output blobs\n",
            "\n",
            "Top 10 results:\n",
            "\n",
            "Image /opt/intel/openvino_2019.3.376/deployment_tools/demo/car.png\n",
            "\n",
            "classid probability label\n",
            "------- ----------- -----\n",
            "817     0.6853030   sports car, sport car\n",
            "479     0.1835197   car wheel\n",
            "511     0.0917197   convertible\n",
            "436     0.0200694   beach wagon, station wagon, wagon, estate car, beach waggon, station waggon, waggon\n",
            "751     0.0069604   racer, race car, racing car\n",
            "656     0.0044177   minivan\n",
            "717     0.0024739   pickup, pickup truck\n",
            "581     0.0017788   grille, radiator grille\n",
            "468     0.0013083   cab, hack, taxi, taxicab\n",
            "661     0.0007443   Model T\n",
            "\n",
            "[ INFO ] Execution successful\n",
            "\n",
            "[ INFO ] This sample is an API example, for any performance measurements please use the dedicated benchmark_app tool\n",
            "\n",
            "\n",
            "###################################################\n",
            "\n",
            "Demo completed successfully.\n",
            "\n"
          ],
          "name": "stdout"
        }
      ]
    },
    {
      "cell_type": "code",
      "metadata": {
        "id": "knJe-rmRjukb",
        "colab_type": "code",
        "colab": {}
      },
      "source": [
        "## To learn about the verification scripts\n",
        "# !cat /opt/intel/openvino/deployment_tools/demo/README.txt"
      ],
      "execution_count": 0,
      "outputs": []
    },
    {
      "cell_type": "markdown",
      "metadata": {
        "id": "OCYXLTdJp2iD",
        "colab_type": "text"
      },
      "source": [
        " # Steps for Intel® Processor Graphics (GPU)   \n",
        " \n",
        " Colab doesn't use Intel GPU..."
      ]
    },
    {
      "cell_type": "markdown",
      "metadata": {
        "id": "nS8fN0duqKuu",
        "colab_type": "text"
      },
      "source": [
        "# Steps for Intel® Movidius™ Neural Compute Stick and Intel® Neural Compute Stick 2   \n",
        "\n",
        "Colab doesn't have these either..."
      ]
    },
    {
      "cell_type": "markdown",
      "metadata": {
        "id": "Ovyt497gqYkW",
        "colab_type": "text"
      },
      "source": [
        "# Steps for Intel® Vision Accelerator Design with Intel® Movidius™ VPUs   \n",
        "\n",
        "Er..."
      ]
    },
    {
      "cell_type": "markdown",
      "metadata": {
        "id": "YVQ-tqCYhxk-",
        "colab_type": "text"
      },
      "source": [
        "# Example: Downloand model and generate IR"
      ]
    },
    {
      "cell_type": "code",
      "metadata": {
        "id": "FaUMLChx_6hT",
        "colab_type": "code",
        "colab": {}
      },
      "source": [
        "## download model squeezenet1.1\n",
        "## 【IMPORTANT】\n",
        "## https://software.intel.com/en-us/forums/intel-distribution-of-openvino-toolkit/topic/813004\n",
        "!mkdir -p \"/home/workspace\"\n",
        "!/usr/bin/python3 \\\n",
        "    /opt/intel/openvino/deployment_tools/tools/model_downloader/downloader.py \\\n",
        "    --name squeezenet1.1 \\\n",
        "    --output_dir /home/workspace\n",
        "## Downloading /home/workspace/public/squeezenet1.1/squeezenet1.1.prototxt\n",
        "## Downloading /home/workspace/public/squeezenet1.1/squeezenet1.1.caffemodel\n",
        "## Replacing text in /home/workspace/public/squeezenet1.1/squeezenet1.1.prototxt"
      ],
      "execution_count": 0,
      "outputs": []
    },
    {
      "cell_type": "code",
      "metadata": {
        "id": "W2xSpYjPCgdA",
        "colab_type": "code",
        "outputId": "ca207b7d-9c14-41bd-b7b9-71c10d58807a",
        "colab": {
          "base_uri": "https://localhost:8080/",
          "height": 600
        }
      },
      "source": [
        "## Run the Model Optimizer to convert the FP32 Squeezenet \n",
        "## Caffe* model delivered with the installation into an \n",
        "## optimized FP16 Intermediate Representation (IR)\n",
        "\n",
        "## wrong input will generate wrong model...\n",
        "# !source /opt/intel/openvino/bin/setupvars.sh && \\\n",
        "#     /usr/bin/python3 \\\n",
        "#     /opt/intel/openvino/deployment_tools/model_optimizer/mo.py \\\n",
        "#     --input_model /home/workspace/public/squeezenet1.1/squeezenet1.1.caffemodel \\\n",
        "#     --scale 255.0 \\\n",
        "#     --mean_values [104.0,117.0,123.0] \\\n",
        "#     --output_dir /home/workspace/intel/squeezenet1.1/FP16/ \\\n",
        "#     --data_type FP16\n",
        "\n",
        "!source /opt/intel/openvino/bin/setupvars.sh && \\\n",
        "    /usr/bin/python3 \\\n",
        "    /opt/intel/openvino_2019.3.376/deployment_tools/model_optimizer/mo.py \\\n",
        "    --input_model /root/openvino_models/models/public/squeezenet1.1/squeezenet1.1.caffemodel \\\n",
        "    --input_proto /root/openvino_models/models/public/squeezenet1.1/squeezenet1.1.prototxt \\\n",
        "    --output_dir /home/workspace/intel/squeezenet1.1/FP16/ \\\n",
        "    --model_name squeezenet1.1 \\\n",
        "    --framework caffe \\\n",
        "    --data_type FP16 \\\n",
        "    --input_shape [1,3,227,227] \\\n",
        "    --mean_values [104.0,117.0,123.0]"
      ],
      "execution_count": 21,
      "outputs": [
        {
          "output_type": "stream",
          "text": [
            "[setupvars.sh] OpenVINO environment initialized\n",
            "Model Optimizer arguments:\n",
            "Common parameters:\n",
            "\t- Path to the Input Model: \t/root/openvino_models/models/public/squeezenet1.1/squeezenet1.1.caffemodel\n",
            "\t- Path for generated IR: \t/home/workspace/intel/squeezenet1.1/FP16/\n",
            "\t- IR output name: \tsqueezenet1.1\n",
            "\t- Log level: \tERROR\n",
            "\t- Batch: \tNot specified, inherited from the model\n",
            "\t- Input layers: \tNot specified, inherited from the model\n",
            "\t- Output layers: \tNot specified, inherited from the model\n",
            "\t- Input shapes: \t[1,3,227,227]\n",
            "\t- Mean values: \t[104.0,117.0,123.0]\n",
            "\t- Scale values: \tNot specified\n",
            "\t- Scale factor: \tNot specified\n",
            "\t- Precision of IR: \tFP16\n",
            "\t- Enable fusing: \tTrue\n",
            "\t- Enable grouped convolutions fusing: \tTrue\n",
            "\t- Move mean values to preprocess section: \tFalse\n",
            "\t- Reverse input channels: \tFalse\n",
            "Caffe specific parameters:\n",
            "\t- Path to Python Caffe* parser generated from caffe.proto: \t/opt/intel/openvino_2019.3.376/deployment_tools/model_optimizer/mo/front/caffe/proto\n",
            "\t- Enable resnet optimization: \tTrue\n",
            "\t- Path to the Input prototxt: \t/root/openvino_models/models/public/squeezenet1.1/squeezenet1.1.prototxt\n",
            "\t- Path to CustomLayersMapping.xml: \tDefault\n",
            "\t- Path to a mean file: \tNot specified\n",
            "\t- Offsets for a mean file: \tNot specified\n",
            "Model Optimizer version: \t2019.3.0-408-gac8584cb7\n",
            "\n",
            "[ SUCCESS ] Generated IR model.\n",
            "[ SUCCESS ] XML file: /home/workspace/intel/squeezenet1.1/FP16/squeezenet1.1.xml\n",
            "[ SUCCESS ] BIN file: /home/workspace/intel/squeezenet1.1/FP16/squeezenet1.1.bin\n",
            "[ SUCCESS ] Total execution time: 3.57 seconds. \n"
          ],
          "name": "stdout"
        }
      ]
    },
    {
      "cell_type": "code",
      "metadata": {
        "id": "vLu5j2gGFyd2",
        "colab_type": "code",
        "colab": {}
      },
      "source": [
        "## Please install required versions of components or use install_prerequisites script.\n",
        "'''\n",
        "[WARNING] All Model Optimizer dependencies are installed globally.\n",
        "[WARNING] If you want to keep Model Optimizer in separate sandbox\n",
        "[WARNING] run install_prerequisites.sh venv {caffe|tf|mxnet|kaldi|onnx}\n",
        "'''\n",
        "%cd /opt/intel/openvino_2019.3.376/deployment_tools/model_optimizer/install_prerequisites/\n",
        "!./install_prerequisites_caffe.sh"
      ],
      "execution_count": 0,
      "outputs": []
    },
    {
      "cell_type": "code",
      "metadata": {
        "id": "Zix2tLawzlw8",
        "colab_type": "code",
        "colab": {}
      },
      "source": [
        "## The squeezenet1.1.labels file contains the classes \n",
        "## that ImageNet uses. This file is included so that \n",
        "## the inference results show text instead of classification \n",
        "## numbers. Copy squeezenet1.1.labels to your optimized model location\n",
        "!cp /root/openvino_models/ir/public/squeezenet1.1/FP16/squeezenet1.1.labels \\\n",
        "    /home/workspace/intel/squeezenet1.1/FP16"
      ],
      "execution_count": 0,
      "outputs": []
    },
    {
      "cell_type": "markdown",
      "metadata": {
        "id": "sSnoRu0Cqddy",
        "colab_type": "text"
      },
      "source": [
        "# Run a Sample Application  \n",
        "\n",
        "[Install Intel® Distribution of OpenVINO™ toolkit for Linux*](https://docs.openvinotoolkit.org/latest/_docs_install_guides_installing_openvino_linux.html#install-openvino)  \n",
        "If you are running inference on hardware other than VPU-based devices, you already have the required FP32 neural network model converted to an optimized Intermediate Representation (IR). Follow the steps in the [Run the Sample Application](https://docs.openvinotoolkit.org/latest/_docs_install_guides_installing_openvino_linux.html#run-the-sample-application) section to run the sample.    \n",
        "\n",
        "[Model Downloader Essentials](https://software.intel.com/en-us/articles/model-downloader-essentials)   \n",
        "**squeezenet1.1**\n",
        "\n",
        "The \"squeezenet1.1\" model is an updated version of the \"SqueezeNet\" topology. It requires 2.4x less computation than SqueezeNet v1.0 without diminishing accuracy.\n",
        "\n",
        "The model input is a blob that consists of a single image of \"1x3x224x224\" in BGR order. The BGR mean values need to be subtracted as follows: [104, 117, 123] before passing the image blob into the network.\n",
        "\n",
        "The model output for \"squeezenet1.1\" is the typical object classifier output for the 1000 different classifications matching those in the ImageNet database.\n",
        "\n",
        "[Convert a TensorFlow* Model](https://docs.openvinotoolkit.org/latest/_docs_MO_DG_prepare_model_convert_model_Convert_Model_From_TensorFlow.html#Convert_From_TF)    \n",
        "1. Go to the <INSTALL_DIR>/deployment_tools/model_optimizer directory   \n",
        "2. Use the mo_tf.py script to simply convert a model with the path to the input model .pb file:   \n",
        "`python3 mo_tf.py --input_model <INPUT_MODEL>.pb` "
      ]
    },
    {
      "cell_type": "code",
      "metadata": {
        "id": "WvsK8vYcSLoT",
        "colab_type": "code",
        "outputId": "104f232d-443c-431d-c9a3-2ec594240b71",
        "colab": {
          "base_uri": "https://localhost:8080/",
          "height": 967
        }
      },
      "source": [
        "## The same thing here for Ubuntu 18.04. The workaround is to extract package \n",
        "## intel-openvino-ie-rt-vpu-ubuntu-bionic-2019.1.094-2019.1-094.x86_64.rpm manually.\n",
        "'''\n",
        "/root/inference_engine_samples_build/intel64/Release\n",
        "[ INFO ] InferenceEngine: \n",
        "\tAPI version ............ 2.1\n",
        "\tBuild .................. custom_releases/2019/R3_ac8584cb714a697a12f1f30b7a3b78a5b9ac5e05\n",
        "\tDescription ....... API\n",
        "[ INFO ] Parsing input parameters\n",
        "[ INFO ] Parsing input parameters\n",
        "[ INFO ] Files were added: 1\n",
        "[ INFO ]     /opt/intel/openvino_2019.3.376/deployment_tools/demo/car.png\n",
        "[ INFO ] Creating Inference Engine\n",
        "[ ERROR ] Failed to create plugin /opt/intel/openvino_2019.3.376/deployment_tools/inference_engine/lib/intel64/libMKLDNNPlugin.so for device CPU\n",
        "Please, check your environment\n",
        "Cannot load library '/opt/intel/openvino_2019.3.376/deployment_tools/inference_engine/lib/intel64/libMKLDNNPlugin.so': libmkl_tiny_tbb.so: cannot open shared object file: No such file or directory\n",
        "'''\n",
        "## Go to the samples build directory\n",
        "%cd ~/inference_engine_samples_build/intel64/Release\n",
        "## /root/inference_engine_samples_build/intel64/Release\n",
        "## Run on CPU\n",
        "!source /opt/intel/openvino/bin/setupvars.sh &&\\\n",
        "\t./classification_sample_async \\\n",
        "\t-i /opt/intel/openvino/deployment_tools/demo/car_1.bmp \\\n",
        "\t-m /home/workspace/intel/squeezenet1.1/FP16/squeezenet1.1.xml \\\n",
        "\t-d CPU\n",
        "# !./classification_sample_async \\\n",
        "# \t-i /opt/intel/openvino_2019.3.376/deployment_tools/demo/car.png \\\n",
        "# \t-m /root/openvino_models/intel/public/squeezenet1.1/FP16/squeezenet1.1.xml \\\n",
        "# \t-d CPU\n",
        "## Run on GPU \n",
        "# !./classification_sample_async \\\n",
        "# \t-i /opt/intel/openvino/deployment_tools/demo/car.png \\\n",
        "# \t-m /home/workspace/intel/squeezenet1.1/FP16/squeezenet1.1.xml \\\n",
        "# \t-d GPU"
      ],
      "execution_count": 25,
      "outputs": [
        {
          "output_type": "stream",
          "text": [
            "/root/inference_engine_samples_build/intel64/Release\n",
            "[setupvars.sh] OpenVINO environment initialized\n",
            "[ INFO ] InferenceEngine: \n",
            "\tAPI version ............ 2.1\n",
            "\tBuild .................. custom_releases/2019/R3_ac8584cb714a697a12f1f30b7a3b78a5b9ac5e05\n",
            "\tDescription ....... API\n",
            "[ INFO ] Parsing input parameters\n",
            "[ INFO ] Parsing input parameters\n",
            "[ INFO ] Files were added: 1\n",
            "[ INFO ]     /opt/intel/openvino/deployment_tools/demo/car_1.bmp\n",
            "[ INFO ] Creating Inference Engine\n",
            "\tCPU\n",
            "\tMKLDNNPlugin version ......... 2.1\n",
            "\tBuild ........... 32974\n",
            "\n",
            "[ INFO ] Loading network files\n",
            "[ INFO ] Preparing input blobs\n",
            "[ WARNING ] Image is resized from (749, 637) to (227, 227)\n",
            "[ INFO ] Batch size is 1\n",
            "[ INFO ] Loading model to the device\n",
            "[ INFO ] Create infer request\n",
            "[ INFO ] Start inference (10 asynchronous executions)\n",
            "[ INFO ] Completed 1 async request execution\n",
            "[ INFO ] Completed 2 async request execution\n",
            "[ INFO ] Completed 3 async request execution\n",
            "[ INFO ] Completed 4 async request execution\n",
            "[ INFO ] Completed 5 async request execution\n",
            "[ INFO ] Completed 6 async request execution\n",
            "[ INFO ] Completed 7 async request execution\n",
            "[ INFO ] Completed 8 async request execution\n",
            "[ INFO ] Completed 9 async request execution\n",
            "[ INFO ] Completed 10 async request execution\n",
            "[ INFO ] Processing output blobs\n",
            "\n",
            "Top 10 results:\n",
            "\n",
            "Image /opt/intel/openvino/deployment_tools/demo/car_1.bmp\n",
            "\n",
            "classid probability label\n",
            "------- ----------- -----\n",
            "656     0.4386576   minivan\n",
            "882     0.2381249   vacuum, vacuum cleaner\n",
            "817     0.0673048   sports car, sport car\n",
            "518     0.0327099   crash helmet\n",
            "751     0.0291835   racer, race car, racing car\n",
            "412     0.0193542   ashcan, trash can, garbage can, wastebin, ash bin, ash-bin, ashbin, dustbin, trash barrel, trash bin\n",
            "468     0.0087359   cab, hack, taxi, taxicab\n",
            "505     0.0084123   coffeepot\n",
            "654     0.0082050   minibus\n",
            "744     0.0080113   projectile, missile\n",
            "\n",
            "[ INFO ] Execution successful\n",
            "\n",
            "[ INFO ] This sample is an API example, for any performance measurements please use the dedicated benchmark_app tool\n"
          ],
          "name": "stdout"
        }
      ]
    },
    {
      "cell_type": "code",
      "metadata": {
        "id": "rYF5X-8wTXh_",
        "colab_type": "code",
        "outputId": "5ec6602c-989e-4b82-b0ef-f7250829aeda",
        "colab": {
          "base_uri": "https://localhost:8080/",
          "height": 739
        }
      },
      "source": [
        "## Python sample\n",
        "%cd /opt/intel/openvino/inference_engine/samples/python_samples/classification_sample_async\n",
        "## Run on CPU\n",
        "!source /opt/intel/openvino/bin/setupvars.sh &&\\\n",
        "    /usr/bin/python3 classification_sample_async.py \\\n",
        "    -i /opt/intel/openvino/deployment_tools/demo/car.png \\\n",
        "    -m /home/workspace/intel/squeezenet1.1/FP16/squeezenet1.1.xml \\\n",
        "    -d CPU"
      ],
      "execution_count": 24,
      "outputs": [
        {
          "output_type": "stream",
          "text": [
            "/opt/intel/openvino_2019.3.376/deployment_tools/inference_engine/samples/python_samples/classification_sample_async\n",
            "[setupvars.sh] OpenVINO environment initialized\n",
            "[ INFO ] Creating Inference Engine\n",
            "[ INFO ] Loading network files:\n",
            "\t/home/workspace/intel/squeezenet1.1/FP16/squeezenet1.1.xml\n",
            "\t/home/workspace/intel/squeezenet1.1/FP16/squeezenet1.1.bin\n",
            "[ INFO ] Preparing input blobs\n",
            "[ WARNING ] Image /opt/intel/openvino/deployment_tools/demo/car.png is resized from (259, 787) to (227, 227)\n",
            "[ INFO ] Batch size is 1\n",
            "[ INFO ] Loading model to the plugin\n",
            "[ INFO ] Start inference (10 Synchronous executions)\n",
            "[ INFO ] Completed 1 Sync request execution\n",
            "[ INFO ] Completed 2 Sync request execution\n",
            "[ INFO ] Completed 3 Sync request execution\n",
            "[ INFO ] Completed 4 Sync request execution\n",
            "[ INFO ] Completed 5 Sync request execution\n",
            "[ INFO ] Completed 6 Sync request execution\n",
            "[ INFO ] Completed 7 Sync request execution\n",
            "[ INFO ] Completed 8 Sync request execution\n",
            "[ INFO ] Completed 9 Sync request execution\n",
            "[ INFO ] Completed 10 Sync request execution\n",
            "[ INFO ] Processing output blob\n",
            "[ INFO ] Top 10 results: \n",
            "Image /opt/intel/openvino/deployment_tools/demo/car.png\n",
            "\n",
            "classid probability\n",
            "------- -----------\n",
            "  817     0.6853030\n",
            "  479    0.1835197\n",
            "  511    0.0917197\n",
            "  436    0.0200694\n",
            "  751    0.0069604\n",
            "  656    0.0044177\n",
            "  717    0.0024739\n",
            "  581    0.0017788\n",
            "  468    0.0013083\n",
            "  661    0.0007443\n",
            "\n",
            "\n",
            "[ INFO ] This sample is an API example, for any performance measurements please use the dedicated benchmark_app tool\n",
            "\n"
          ],
          "name": "stdout"
        }
      ]
    },
    {
      "cell_type": "markdown",
      "metadata": {
        "id": "mSoycxCfqgML",
        "colab_type": "text"
      },
      "source": [
        "# Udacity Exercise: Deploy An App at the Edge  \n",
        "\n",
        "[2.12 Exercise: Deploy An App at the Edge](https://classroom.udacity.com/nanodegrees/nd132/parts/3eafdf71-b35c-4525-9b2c-d46f7dc300aa/modules/cc8ef708-33e0-472b-a8d6-ed66b8e6f678/lessons/ce84f711-c69f-4d6d-885d-0f18e061ca12/concepts/3f00f54a-b070-4425-aad8-2a037d295f2e)\n",
        "\n",
        "[Overview of OpenVINO™ Toolkit Pre-Trained Models](https://docs.openvinotoolkit.org/2019_R1/_docs_Pre_Trained_Models.html)    "
      ]
    },
    {
      "cell_type": "code",
      "metadata": {
        "id": "GC4Es6GWVcCh",
        "colab_type": "code",
        "outputId": "75830575-814b-4107-ca51-fbaf08778f04",
        "colab": {
          "base_uri": "https://localhost:8080/",
          "height": 52
        }
      },
      "source": [
        "## This won't work in current session.\n",
        "!source /opt/intel/openvino/bin/setupvars.sh -pyver 3.6 python_version=3.6"
      ],
      "execution_count": 40,
      "outputs": [
        {
          "output_type": "stream",
          "text": [
            "python_version = 3.6\n",
            "[setupvars.sh] OpenVINO environment initialized\n"
          ],
          "name": "stdout"
        }
      ]
    },
    {
      "cell_type": "code",
      "metadata": {
        "id": "EWYR0k53ddik",
        "colab_type": "code",
        "colab": {}
      },
      "source": [
        "## download 3 pre-trained models\n",
        "!mkdir -p \"/content/drive/My Drive/software/Intel OpenVINO 2019 R3.1/workspace/\"\n",
        "%cd /opt/intel/openvino/deployment_tools/open_model_zoo/tools/downloader\n",
        "!sudo ./downloader.py \\\n",
        "    --name human-pose-estimation-0001 \\\n",
        "    -o \"/content/drive/My Drive/software/Intel OpenVINO 2019 R3.1/workspace\"\n",
        "!sudo ./downloader.py \\\n",
        "    --name text-detection-0004 \\\n",
        "    --precisions FP16 \\\n",
        "    -o \"/content/drive/My Drive/software/Intel OpenVINO 2019 R3.1/workspace\"\n",
        "!sudo ./downloader.py \\\n",
        "    --name vehicle-attributes-recognition-barrier-0039 \\\n",
        "    --precisions INT8 \\\n",
        "    -o \"/content/drive/My Drive/software/Intel OpenVINO 2019 R3.1/workspace\""
      ],
      "execution_count": 0,
      "outputs": []
    },
    {
      "cell_type": "code",
      "metadata": {
        "id": "2Y9Z6zgFqo9a",
        "colab_type": "code",
        "outputId": "87093977-a117-4a4d-c196-8b35a2a69ffc",
        "colab": {
          "base_uri": "https://localhost:8080/",
          "height": 105
        }
      },
      "source": [
        "## check models downloaded\n",
        "!ls -al \"/content/drive/My Drive/software/Intel OpenVINO 2019 R3.1/workspace/intel\""
      ],
      "execution_count": 25,
      "outputs": [
        {
          "output_type": "stream",
          "text": [
            "total 16\n",
            "drwx------ 5 root root 4096 Jan  1 23:27 human-pose-estimation-0001\n",
            "drwx------ 3 root root 4096 Jan  1 23:27 squeezenet1.1\n",
            "drwx------ 3 root root 4096 Jan  1 23:27 text-detection-0004\n",
            "drwx------ 3 root root 4096 Jan  1 23:27 vehicle-attributes-recognition-barrier-0039\n"
          ],
          "name": "stdout"
        }
      ]
    },
    {
      "cell_type": "code",
      "metadata": {
        "id": "bwweHaEgMe0y",
        "colab_type": "code",
        "colab": {}
      },
      "source": [
        "%%capture\n",
        "%cd /content\n",
        "## download github repo\n",
        "# !rm -fr /content/Udactiy-Intel-Edge-AI-Scholarship/\n",
        "# !git clone https://github.com/Nov05/Udactiy-Intel-Edge-AI-Scholarship.git\n",
        "## OR download folder of github repo\n",
        "# !sudo apt-get install subversion\n",
        "!rm -fr /content/exercise\n",
        "!svn checkout https://github.com/Nov05/Udactiy-Intel-Edge-AI-Scholarship/trunk/exercise"
      ],
      "execution_count": 0,
      "outputs": []
    },
    {
      "cell_type": "code",
      "metadata": {
        "id": "XPnlsl-WmyXY",
        "colab_type": "code",
        "outputId": "e64fb2f4-56a2-46b9-f9f2-3754bdea40df",
        "colab": {
          "base_uri": "https://localhost:8080/",
          "height": 262
        }
      },
      "source": [
        "import numpy as np\n",
        "from matplotlib import pyplot as plt\n",
        "from PIL import Image\n",
        "import cv2\n",
        "from google.colab.patches import cv2_imshow\n",
        "\n",
        "## display test image\n",
        "%cd /content/exercise/002_deploy_an_app_at_the_edge\n",
        "POSE_IMAGE = cv2.imread(\"../images/sign.jpg\")\n",
        "print(POSE_IMAGE.shape)\n",
        "img = cv2.resize(POSE_IMAGE, (300, 210))\n",
        "# convert BGR to RGB\n",
        "img = cv2.cvtColor(img, cv2.COLOR_BGR2RGB)\n",
        "cv2_imshow(img) # cv2.imshow()"
      ],
      "execution_count": 23,
      "outputs": [
        {
          "output_type": "stream",
          "text": [
            "/content/exercise/002_deploy_an_app_at_the_edge\n",
            "(667, 1000, 3)\n"
          ],
          "name": "stdout"
        },
        {
          "output_type": "display_data",
          "data": {
            "image/png": "[encoded data removed]",
            "text/plain": [
              "<PIL.Image.Image image mode=RGB size=300x210 at 0x7FA528D33AC8>"
            ]
          },
          "metadata": {
            "tags": []
          }
        }
      ]
    },
    {
      "cell_type": "markdown",
      "metadata": {
        "id": "zW1PSN9uq54H",
        "colab_type": "text"
      },
      "source": [
        "**Testing the apps**  \n",
        "To test your implementations, you can use app.py to run each edge application, with the following arguments:\n",
        "```\n",
        "-t: The model type, which should be one of \"POSE\", \"TEXT\", or \"CAR_META\"\n",
        "-m: The location of the model .xml file\n",
        "-i: The location of the input image used for testing\n",
        "-c: A CPU extension file, if applicable. See below for what\n",
        "    this is for the workspace. The results of your output will\n",
        "    be saved down for viewing in the outputs directory.\n",
        "```"
      ]
    },
    {
      "cell_type": "code",
      "metadata": {
        "id": "mR_o8q3rmEGU",
        "colab_type": "code",
        "outputId": "062d9795-49d6-4b94-d7ce-d01160319bfd",
        "colab": {
          "base_uri": "https://localhost:8080/",
          "height": 35
        }
      },
      "source": [
        "!source /opt/intel/openvino/bin/setupvars.sh &&\\\n",
        " python /content/exercise/002_deploy_an_app_at_the_edge/app.py \\\n",
        "    -i \"../images/blue-car.jpg\" \\\n",
        "    -t \"CAR_META\" \\\n",
        "    -m \"/content/drive/My Drive/software/Intel OpenVINO 2019 R3.1/workspace/intel/vehicle-attributes-recognition-barrier-0039/INT8/vehicle-attributes-recognition-barrier-0039.xml\" \\\n",
        "    -c \"/opt/intel/openvino/deployment_tools/inference_engine/lib/intel64/libcpu_extension_sse4.so\""
      ],
      "execution_count": 24,
      "outputs": [
        {
          "output_type": "stream",
          "text": [
            "[setupvars.sh] OpenVINO environment initialized\n"
          ],
          "name": "stdout"
        }
      ]
    }
  ]
}